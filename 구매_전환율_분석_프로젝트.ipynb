{
  "cells": [
    {
      "cell_type": "markdown",
      "metadata": {
        "id": "KQMCF-hL4MiX"
      },
      "source": [
        "# 사용자 구매 전환율 분석 프로젝트\n",
        "\n",
        "1. 데이터 품질 관리\\\n",
        "1) 데이터 탐색\\\n",
        "2) 초기분석 및 EDA : 컬럼확인\\\n",
        "3) 데이터 전처리\n",
        "\n",
        "2. 분석\\\n",
        "1) 목적 및 문제 정의\\\n",
        "2) 지표 설정\\\n",
        "3) 현상 파악\\\n",
        "4) 평가\\\n",
        "5) 원인 도출\\\n",
        "6) 해결 방안 및 액션 도출"
      ]
    },
    {
      "cell_type": "markdown",
      "metadata": {
        "id": "_eER5Xot8v-f"
      },
      "source": [
        "# 데이터 품질 확인\n"
      ]
    },
    {
      "cell_type": "markdown",
      "metadata": {
        "id": "tK10MSyxkxnm"
      },
      "source": [
        "## 1.데이터 탐색"
      ]
    },
    {
      "cell_type": "code",
      "execution_count": 2,
      "metadata": {
        "id": "-MpSqz4zlOwk"
      },
      "outputs": [],
      "source": [
        "import pandas as pd\n",
        "import numpy as np\n",
        "import os\n",
        "\n",
        "import matplotlib.pyplot as plt\n",
        "import seaborn as sns"
      ]
    },
    {
      "cell_type": "code",
      "execution_count": 20,
      "metadata": {
        "id": "K5pEPxLeoDt1"
      },
      "outputs": [],
      "source": [
        "path = '/content/drive/MyDrive/Colab Notebooks/DA(AI)/kaggle_cosmetics/' ## kaggle eCommerce events history cosmetics shop"
      ]
    },
    {
      "cell_type": "code",
      "execution_count": null,
      "metadata": {
        "id": "cyHP8zRXoFjX"
      },
      "outputs": [],
      "source": [
        "# 하나의 파일로 결합\n",
        "dfs = []\n",
        "\n",
        "for file in os.listdir(path):\n",
        "    if file.endswith(\".csv\"):\n",
        "        file_path = os.path.join(path, file)\n",
        "        dfs.append(pd.read_csv(file_path))\n",
        "\n",
        "combined_df = pd.concat(dfs, ignore_index=True)\n",
        "\n",
        "output_file = '/content/drive/MyDrive/Colab Notebooks/DA(AI)/kaggle_combined_file.csv'\n",
        "\n",
        "combined_df.to_csv(output_file, index=False)\n",
        "\n",
        "print(f\"Combined CSV file saved at: {output_file}\")"
      ]
    },
    {
      "cell_type": "code",
      "execution_count": 21,
      "metadata": {
        "id": "wEP4S8L0oFgj"
      },
      "outputs": [],
      "source": [
        "path_kaggle = '/content/drive/MyDrive/Colab Notebooks/DA(AI)/kaggle_cosmetics/kaggle_combined_file.csv' ## 결합한 캐글 데이터"
      ]
    },
    {
      "cell_type": "code",
      "execution_count": 22,
      "metadata": {
        "id": "vhluneBYoFeB"
      },
      "outputs": [],
      "source": [
        "pd.read_csv(path_kaggle)\n",
        "df = pd.read_csv(path_kaggle)"
      ]
    },
    {
      "cell_type": "code",
      "execution_count": 23,
      "metadata": {
        "id": "O51O-HyooFbP"
      },
      "outputs": [],
      "source": [
        "df_1 = df.copy()"
      ]
    },
    {
      "cell_type": "code",
      "execution_count": null,
      "metadata": {
        "id": "pYx-4hGroFX1",
        "colab": {
          "base_uri": "https://localhost:8080/"
        },
        "outputId": "3c4ddbcc-fb0b-4a77-b35c-10d03e9aa0ec"
      },
      "outputs": [
        {
          "output_type": "stream",
          "name": "stdout",
          "text": [
            "<class 'pandas.core.frame.DataFrame'>\n",
            "RangeIndex: 20692840 entries, 0 to 20692839\n",
            "Data columns (total 9 columns):\n",
            " #   Column         Dtype  \n",
            "---  ------         -----  \n",
            " 0   event_time     object \n",
            " 1   event_type     object \n",
            " 2   product_id     int64  \n",
            " 3   category_id    int64  \n",
            " 4   category_code  object \n",
            " 5   brand          object \n",
            " 6   price          float64\n",
            " 7   user_id        int64  \n",
            " 8   user_session   object \n",
            "dtypes: float64(1), int64(3), object(5)\n",
            "memory usage: 1.4+ GB\n"
          ]
        }
      ],
      "source": [
        "df_1.info()"
      ]
    },
    {
      "cell_type": "code",
      "execution_count": null,
      "metadata": {
        "id": "oSQSAz36oFUX",
        "colab": {
          "base_uri": "https://localhost:8080/"
        },
        "outputId": "054061fe-a16c-4651-e944-f990fd532bc6"
      },
      "outputs": [
        {
          "output_type": "execute_result",
          "data": {
            "text/plain": [
              "event_time              0\n",
              "event_type              0\n",
              "product_id              0\n",
              "category_id             0\n",
              "category_code    20339246\n",
              "brand             8757117\n",
              "price                   0\n",
              "user_id                 0\n",
              "user_session         4598\n",
              "dtype: int64"
            ]
          },
          "metadata": {},
          "execution_count": 11
        }
      ],
      "source": [
        "df_1.isnull().sum()"
      ]
    },
    {
      "cell_type": "code",
      "execution_count": null,
      "metadata": {
        "id": "0dbXWY-kouNH",
        "colab": {
          "base_uri": "https://localhost:8080/",
          "height": 351
        },
        "outputId": "44c09261-5d01-406c-c48e-aa9c06167c2e"
      },
      "outputs": [
        {
          "output_type": "execute_result",
          "data": {
            "text/plain": [
              "                                                                                                    0\n",
              "event_time event_type product_id category_id category_code brand price user_id user_session          \n",
              "False      False      False      False       True          False False False   False         11666045\n",
              "                                                           True  False False   False          8668652\n",
              "                                             False         False False False   False           266709\n",
              "                                                           True  False False   False            86836\n",
              "                                             True          False False False   True              2929\n",
              "                                                           True  False False   True              1620\n",
              "                                             False         False False False   True                40\n",
              "                                                           True  False False   True                 9"
            ],
            "text/html": [
              "\n",
              "  <div id=\"df-29b36aca-b106-448e-9343-d8ad804cff7c\" class=\"colab-df-container\">\n",
              "    <div>\n",
              "<style scoped>\n",
              "    .dataframe tbody tr th:only-of-type {\n",
              "        vertical-align: middle;\n",
              "    }\n",
              "\n",
              "    .dataframe tbody tr th {\n",
              "        vertical-align: top;\n",
              "    }\n",
              "\n",
              "    .dataframe thead th {\n",
              "        text-align: right;\n",
              "    }\n",
              "</style>\n",
              "<table border=\"1\" class=\"dataframe\">\n",
              "  <thead>\n",
              "    <tr style=\"text-align: right;\">\n",
              "      <th></th>\n",
              "      <th></th>\n",
              "      <th></th>\n",
              "      <th></th>\n",
              "      <th></th>\n",
              "      <th></th>\n",
              "      <th></th>\n",
              "      <th></th>\n",
              "      <th></th>\n",
              "      <th>0</th>\n",
              "    </tr>\n",
              "    <tr>\n",
              "      <th>event_time</th>\n",
              "      <th>event_type</th>\n",
              "      <th>product_id</th>\n",
              "      <th>category_id</th>\n",
              "      <th>category_code</th>\n",
              "      <th>brand</th>\n",
              "      <th>price</th>\n",
              "      <th>user_id</th>\n",
              "      <th>user_session</th>\n",
              "      <th></th>\n",
              "    </tr>\n",
              "  </thead>\n",
              "  <tbody>\n",
              "    <tr>\n",
              "      <th rowspan=\"8\" valign=\"top\">False</th>\n",
              "      <th rowspan=\"8\" valign=\"top\">False</th>\n",
              "      <th rowspan=\"8\" valign=\"top\">False</th>\n",
              "      <th rowspan=\"8\" valign=\"top\">False</th>\n",
              "      <th rowspan=\"2\" valign=\"top\">True</th>\n",
              "      <th>False</th>\n",
              "      <th>False</th>\n",
              "      <th>False</th>\n",
              "      <th>False</th>\n",
              "      <td>11666045</td>\n",
              "    </tr>\n",
              "    <tr>\n",
              "      <th>True</th>\n",
              "      <th>False</th>\n",
              "      <th>False</th>\n",
              "      <th>False</th>\n",
              "      <td>8668652</td>\n",
              "    </tr>\n",
              "    <tr>\n",
              "      <th rowspan=\"2\" valign=\"top\">False</th>\n",
              "      <th>False</th>\n",
              "      <th>False</th>\n",
              "      <th>False</th>\n",
              "      <th>False</th>\n",
              "      <td>266709</td>\n",
              "    </tr>\n",
              "    <tr>\n",
              "      <th>True</th>\n",
              "      <th>False</th>\n",
              "      <th>False</th>\n",
              "      <th>False</th>\n",
              "      <td>86836</td>\n",
              "    </tr>\n",
              "    <tr>\n",
              "      <th rowspan=\"2\" valign=\"top\">True</th>\n",
              "      <th>False</th>\n",
              "      <th>False</th>\n",
              "      <th>False</th>\n",
              "      <th>True</th>\n",
              "      <td>2929</td>\n",
              "    </tr>\n",
              "    <tr>\n",
              "      <th>True</th>\n",
              "      <th>False</th>\n",
              "      <th>False</th>\n",
              "      <th>True</th>\n",
              "      <td>1620</td>\n",
              "    </tr>\n",
              "    <tr>\n",
              "      <th rowspan=\"2\" valign=\"top\">False</th>\n",
              "      <th>False</th>\n",
              "      <th>False</th>\n",
              "      <th>False</th>\n",
              "      <th>True</th>\n",
              "      <td>40</td>\n",
              "    </tr>\n",
              "    <tr>\n",
              "      <th>True</th>\n",
              "      <th>False</th>\n",
              "      <th>False</th>\n",
              "      <th>True</th>\n",
              "      <td>9</td>\n",
              "    </tr>\n",
              "  </tbody>\n",
              "</table>\n",
              "</div>\n",
              "    <div class=\"colab-df-buttons\">\n",
              "\n",
              "  <div class=\"colab-df-container\">\n",
              "    <button class=\"colab-df-convert\" onclick=\"convertToInteractive('df-29b36aca-b106-448e-9343-d8ad804cff7c')\"\n",
              "            title=\"Convert this dataframe to an interactive table.\"\n",
              "            style=\"display:none;\">\n",
              "\n",
              "  <svg xmlns=\"http://www.w3.org/2000/svg\" height=\"24px\" viewBox=\"0 -960 960 960\">\n",
              "    <path d=\"M120-120v-720h720v720H120Zm60-500h600v-160H180v160Zm220 220h160v-160H400v160Zm0 220h160v-160H400v160ZM180-400h160v-160H180v160Zm440 0h160v-160H620v160ZM180-180h160v-160H180v160Zm440 0h160v-160H620v160Z\"/>\n",
              "  </svg>\n",
              "    </button>\n",
              "\n",
              "  <style>\n",
              "    .colab-df-container {\n",
              "      display:flex;\n",
              "      gap: 12px;\n",
              "    }\n",
              "\n",
              "    .colab-df-convert {\n",
              "      background-color: #E8F0FE;\n",
              "      border: none;\n",
              "      border-radius: 50%;\n",
              "      cursor: pointer;\n",
              "      display: none;\n",
              "      fill: #1967D2;\n",
              "      height: 32px;\n",
              "      padding: 0 0 0 0;\n",
              "      width: 32px;\n",
              "    }\n",
              "\n",
              "    .colab-df-convert:hover {\n",
              "      background-color: #E2EBFA;\n",
              "      box-shadow: 0px 1px 2px rgba(60, 64, 67, 0.3), 0px 1px 3px 1px rgba(60, 64, 67, 0.15);\n",
              "      fill: #174EA6;\n",
              "    }\n",
              "\n",
              "    .colab-df-buttons div {\n",
              "      margin-bottom: 4px;\n",
              "    }\n",
              "\n",
              "    [theme=dark] .colab-df-convert {\n",
              "      background-color: #3B4455;\n",
              "      fill: #D2E3FC;\n",
              "    }\n",
              "\n",
              "    [theme=dark] .colab-df-convert:hover {\n",
              "      background-color: #434B5C;\n",
              "      box-shadow: 0px 1px 3px 1px rgba(0, 0, 0, 0.15);\n",
              "      filter: drop-shadow(0px 1px 2px rgba(0, 0, 0, 0.3));\n",
              "      fill: #FFFFFF;\n",
              "    }\n",
              "  </style>\n",
              "\n",
              "    <script>\n",
              "      const buttonEl =\n",
              "        document.querySelector('#df-29b36aca-b106-448e-9343-d8ad804cff7c button.colab-df-convert');\n",
              "      buttonEl.style.display =\n",
              "        google.colab.kernel.accessAllowed ? 'block' : 'none';\n",
              "\n",
              "      async function convertToInteractive(key) {\n",
              "        const element = document.querySelector('#df-29b36aca-b106-448e-9343-d8ad804cff7c');\n",
              "        const dataTable =\n",
              "          await google.colab.kernel.invokeFunction('convertToInteractive',\n",
              "                                                    [key], {});\n",
              "        if (!dataTable) return;\n",
              "\n",
              "        const docLinkHtml = 'Like what you see? Visit the ' +\n",
              "          '<a target=\"_blank\" href=https://colab.research.google.com/notebooks/data_table.ipynb>data table notebook</a>'\n",
              "          + ' to learn more about interactive tables.';\n",
              "        element.innerHTML = '';\n",
              "        dataTable['output_type'] = 'display_data';\n",
              "        await google.colab.output.renderOutput(dataTable, element);\n",
              "        const docLink = document.createElement('div');\n",
              "        docLink.innerHTML = docLinkHtml;\n",
              "        element.appendChild(docLink);\n",
              "      }\n",
              "    </script>\n",
              "  </div>\n",
              "\n",
              "\n",
              "<div id=\"df-cfe5244c-7dc7-4575-a52e-fa0d30b7685e\">\n",
              "  <button class=\"colab-df-quickchart\" onclick=\"quickchart('df-cfe5244c-7dc7-4575-a52e-fa0d30b7685e')\"\n",
              "            title=\"Suggest charts\"\n",
              "            style=\"display:none;\">\n",
              "\n",
              "<svg xmlns=\"http://www.w3.org/2000/svg\" height=\"24px\"viewBox=\"0 0 24 24\"\n",
              "     width=\"24px\">\n",
              "    <g>\n",
              "        <path d=\"M19 3H5c-1.1 0-2 .9-2 2v14c0 1.1.9 2 2 2h14c1.1 0 2-.9 2-2V5c0-1.1-.9-2-2-2zM9 17H7v-7h2v7zm4 0h-2V7h2v10zm4 0h-2v-4h2v4z\"/>\n",
              "    </g>\n",
              "</svg>\n",
              "  </button>\n",
              "\n",
              "<style>\n",
              "  .colab-df-quickchart {\n",
              "      --bg-color: #E8F0FE;\n",
              "      --fill-color: #1967D2;\n",
              "      --hover-bg-color: #E2EBFA;\n",
              "      --hover-fill-color: #174EA6;\n",
              "      --disabled-fill-color: #AAA;\n",
              "      --disabled-bg-color: #DDD;\n",
              "  }\n",
              "\n",
              "  [theme=dark] .colab-df-quickchart {\n",
              "      --bg-color: #3B4455;\n",
              "      --fill-color: #D2E3FC;\n",
              "      --hover-bg-color: #434B5C;\n",
              "      --hover-fill-color: #FFFFFF;\n",
              "      --disabled-bg-color: #3B4455;\n",
              "      --disabled-fill-color: #666;\n",
              "  }\n",
              "\n",
              "  .colab-df-quickchart {\n",
              "    background-color: var(--bg-color);\n",
              "    border: none;\n",
              "    border-radius: 50%;\n",
              "    cursor: pointer;\n",
              "    display: none;\n",
              "    fill: var(--fill-color);\n",
              "    height: 32px;\n",
              "    padding: 0;\n",
              "    width: 32px;\n",
              "  }\n",
              "\n",
              "  .colab-df-quickchart:hover {\n",
              "    background-color: var(--hover-bg-color);\n",
              "    box-shadow: 0 1px 2px rgba(60, 64, 67, 0.3), 0 1px 3px 1px rgba(60, 64, 67, 0.15);\n",
              "    fill: var(--button-hover-fill-color);\n",
              "  }\n",
              "\n",
              "  .colab-df-quickchart-complete:disabled,\n",
              "  .colab-df-quickchart-complete:disabled:hover {\n",
              "    background-color: var(--disabled-bg-color);\n",
              "    fill: var(--disabled-fill-color);\n",
              "    box-shadow: none;\n",
              "  }\n",
              "\n",
              "  .colab-df-spinner {\n",
              "    border: 2px solid var(--fill-color);\n",
              "    border-color: transparent;\n",
              "    border-bottom-color: var(--fill-color);\n",
              "    animation:\n",
              "      spin 1s steps(1) infinite;\n",
              "  }\n",
              "\n",
              "  @keyframes spin {\n",
              "    0% {\n",
              "      border-color: transparent;\n",
              "      border-bottom-color: var(--fill-color);\n",
              "      border-left-color: var(--fill-color);\n",
              "    }\n",
              "    20% {\n",
              "      border-color: transparent;\n",
              "      border-left-color: var(--fill-color);\n",
              "      border-top-color: var(--fill-color);\n",
              "    }\n",
              "    30% {\n",
              "      border-color: transparent;\n",
              "      border-left-color: var(--fill-color);\n",
              "      border-top-color: var(--fill-color);\n",
              "      border-right-color: var(--fill-color);\n",
              "    }\n",
              "    40% {\n",
              "      border-color: transparent;\n",
              "      border-right-color: var(--fill-color);\n",
              "      border-top-color: var(--fill-color);\n",
              "    }\n",
              "    60% {\n",
              "      border-color: transparent;\n",
              "      border-right-color: var(--fill-color);\n",
              "    }\n",
              "    80% {\n",
              "      border-color: transparent;\n",
              "      border-right-color: var(--fill-color);\n",
              "      border-bottom-color: var(--fill-color);\n",
              "    }\n",
              "    90% {\n",
              "      border-color: transparent;\n",
              "      border-bottom-color: var(--fill-color);\n",
              "    }\n",
              "  }\n",
              "</style>\n",
              "\n",
              "  <script>\n",
              "    async function quickchart(key) {\n",
              "      const quickchartButtonEl =\n",
              "        document.querySelector('#' + key + ' button');\n",
              "      quickchartButtonEl.disabled = true;  // To prevent multiple clicks.\n",
              "      quickchartButtonEl.classList.add('colab-df-spinner');\n",
              "      try {\n",
              "        const charts = await google.colab.kernel.invokeFunction(\n",
              "            'suggestCharts', [key], {});\n",
              "      } catch (error) {\n",
              "        console.error('Error during call to suggestCharts:', error);\n",
              "      }\n",
              "      quickchartButtonEl.classList.remove('colab-df-spinner');\n",
              "      quickchartButtonEl.classList.add('colab-df-quickchart-complete');\n",
              "    }\n",
              "    (() => {\n",
              "      let quickchartButtonEl =\n",
              "        document.querySelector('#df-cfe5244c-7dc7-4575-a52e-fa0d30b7685e button');\n",
              "      quickchartButtonEl.style.display =\n",
              "        google.colab.kernel.accessAllowed ? 'block' : 'none';\n",
              "    })();\n",
              "  </script>\n",
              "</div>\n",
              "\n",
              "    </div>\n",
              "  </div>\n"
            ],
            "application/vnd.google.colaboratory.intrinsic+json": {
              "type": "dataframe",
              "summary": "{\n  \"name\": \"pd\",\n  \"rows\": 8,\n  \"fields\": [\n    {\n      \"column\": 0,\n      \"properties\": {\n        \"dtype\": \"number\",\n        \"std\": 4747880,\n        \"min\": 9,\n        \"max\": 11666045,\n        \"num_unique_values\": 8,\n        \"samples\": [\n          8668652,\n          1620,\n          11666045\n        ],\n        \"semantic_type\": \"\",\n        \"description\": \"\"\n      }\n    }\n  ]\n}"
            }
          },
          "metadata": {},
          "execution_count": 7
        }
      ],
      "source": [
        "null_table = df_1.isnull().value_counts()\n",
        "pd.DataFrame(null_table)"
      ]
    },
    {
      "cell_type": "markdown",
      "metadata": {
        "id": "PYI0yVhAo0mS"
      },
      "source": [
        "event_time: 이벤트(예: 조회, 구매)가 발생한 시간\n",
        "\n",
        "event_type: 이벤트 유형(예: 조회, 장바구니, 구매)\n",
        "\n",
        "product_id: 제품의 ID\n",
        "\n",
        "category_id: 해당 상품이 속한 카테고리의 ID\n",
        "\n",
        "category_code: 제품 카테고리를 나타내는 코드\n",
        "\n",
        "brand: 제품의 브랜드\n",
        "\n",
        "price: 제품 가격\n",
        "\n",
        "user_id: 사용자의 ID\n",
        "\n",
        "user_session: 사용자 세션의 ID"
      ]
    },
    {
      "cell_type": "markdown",
      "metadata": {
        "id": "vqHCH57Nm5l2"
      },
      "source": [
        "## 2.초기분석 및 EDA"
      ]
    },
    {
      "cell_type": "code",
      "execution_count": null,
      "metadata": {
        "id": "5eBpgcv-nOvi",
        "colab": {
          "base_uri": "https://localhost:8080/",
          "height": 868
        },
        "outputId": "0953343a-04d6-430d-9127-3ddce72465ca"
      },
      "outputs": [
        {
          "output_type": "execute_result",
          "data": {
            "text/plain": [
              "                event_time        event_type  product_id          category_id  \\\n",
              "0  2019-12-01 00:00:00 UTC  remove_from_cart     5712790  1487580005268456287   \n",
              "1  2019-12-01 00:00:00 UTC              view     5764655  1487580005411062629   \n",
              "2  2019-12-01 00:00:02 UTC              cart        4958  1487580009471148064   \n",
              "3  2019-12-01 00:00:05 UTC              view     5848413  1487580007675986893   \n",
              "4  2019-12-01 00:00:07 UTC              view     5824148  1487580005511725929   \n",
              "5  2019-12-01 00:00:09 UTC              view     5773361  1487580005134238553   \n",
              "6  2019-12-01 00:00:18 UTC              cart     5629988  1487580009311764506   \n",
              "7  2019-12-01 00:00:22 UTC              view     5807805  1487580005713052531   \n",
              "8  2019-12-01 00:00:27 UTC              view     5588608  1487580008145748965   \n",
              "9  2019-12-01 00:00:34 UTC              cart        5335  1487580009605365797   \n",
              "\n",
              "  category_code      brand  price    user_id  \\\n",
              "0           NaN      f.o.x   6.27  576802932   \n",
              "1           NaN        cnd  29.05  412120092   \n",
              "2           NaN     runail   1.19  494077766   \n",
              "3           NaN  freedecor   0.79  348405118   \n",
              "4           NaN        NaN   5.56  576005683   \n",
              "5           NaN     runail   2.62  560109803   \n",
              "6           NaN        NaN   1.19  579966747   \n",
              "7           NaN   ingarden   4.44  576005683   \n",
              "8           NaN   roubloff   5.40  546170008   \n",
              "9           NaN     runail   0.40  494077766   \n",
              "\n",
              "                           user_session  \n",
              "0  51d85cb0-897f-48d2-918b-ad63965c12dc  \n",
              "1  8adff31e-2051-4894-9758-224bfa8aec18  \n",
              "2  c99a50e8-2fac-4c4d-89ec-41c05f114554  \n",
              "3  722ffea5-73c0-4924-8e8f-371ff8031af4  \n",
              "4  28172809-7e4a-45ce-bab0-5efa90117cd5  \n",
              "5  38cf4ba1-4a0a-4c9e-b870-46685d105f95  \n",
              "6  1512be50-d0fd-4a92-bcd8-3ea3943f2a3b  \n",
              "7  28172809-7e4a-45ce-bab0-5efa90117cd5  \n",
              "8  676d9fcc-2a4f-4448-b49d-136f2e4208c1  \n",
              "9  c99a50e8-2fac-4c4d-89ec-41c05f114554  "
            ],
            "text/html": [
              "\n",
              "  <div id=\"df-11a5d250-6420-48f5-9c78-94e13f836c19\" class=\"colab-df-container\">\n",
              "    <div>\n",
              "<style scoped>\n",
              "    .dataframe tbody tr th:only-of-type {\n",
              "        vertical-align: middle;\n",
              "    }\n",
              "\n",
              "    .dataframe tbody tr th {\n",
              "        vertical-align: top;\n",
              "    }\n",
              "\n",
              "    .dataframe thead th {\n",
              "        text-align: right;\n",
              "    }\n",
              "</style>\n",
              "<table border=\"1\" class=\"dataframe\">\n",
              "  <thead>\n",
              "    <tr style=\"text-align: right;\">\n",
              "      <th></th>\n",
              "      <th>event_time</th>\n",
              "      <th>event_type</th>\n",
              "      <th>product_id</th>\n",
              "      <th>category_id</th>\n",
              "      <th>category_code</th>\n",
              "      <th>brand</th>\n",
              "      <th>price</th>\n",
              "      <th>user_id</th>\n",
              "      <th>user_session</th>\n",
              "    </tr>\n",
              "  </thead>\n",
              "  <tbody>\n",
              "    <tr>\n",
              "      <th>0</th>\n",
              "      <td>2019-12-01 00:00:00 UTC</td>\n",
              "      <td>remove_from_cart</td>\n",
              "      <td>5712790</td>\n",
              "      <td>1487580005268456287</td>\n",
              "      <td>NaN</td>\n",
              "      <td>f.o.x</td>\n",
              "      <td>6.27</td>\n",
              "      <td>576802932</td>\n",
              "      <td>51d85cb0-897f-48d2-918b-ad63965c12dc</td>\n",
              "    </tr>\n",
              "    <tr>\n",
              "      <th>1</th>\n",
              "      <td>2019-12-01 00:00:00 UTC</td>\n",
              "      <td>view</td>\n",
              "      <td>5764655</td>\n",
              "      <td>1487580005411062629</td>\n",
              "      <td>NaN</td>\n",
              "      <td>cnd</td>\n",
              "      <td>29.05</td>\n",
              "      <td>412120092</td>\n",
              "      <td>8adff31e-2051-4894-9758-224bfa8aec18</td>\n",
              "    </tr>\n",
              "    <tr>\n",
              "      <th>2</th>\n",
              "      <td>2019-12-01 00:00:02 UTC</td>\n",
              "      <td>cart</td>\n",
              "      <td>4958</td>\n",
              "      <td>1487580009471148064</td>\n",
              "      <td>NaN</td>\n",
              "      <td>runail</td>\n",
              "      <td>1.19</td>\n",
              "      <td>494077766</td>\n",
              "      <td>c99a50e8-2fac-4c4d-89ec-41c05f114554</td>\n",
              "    </tr>\n",
              "    <tr>\n",
              "      <th>3</th>\n",
              "      <td>2019-12-01 00:00:05 UTC</td>\n",
              "      <td>view</td>\n",
              "      <td>5848413</td>\n",
              "      <td>1487580007675986893</td>\n",
              "      <td>NaN</td>\n",
              "      <td>freedecor</td>\n",
              "      <td>0.79</td>\n",
              "      <td>348405118</td>\n",
              "      <td>722ffea5-73c0-4924-8e8f-371ff8031af4</td>\n",
              "    </tr>\n",
              "    <tr>\n",
              "      <th>4</th>\n",
              "      <td>2019-12-01 00:00:07 UTC</td>\n",
              "      <td>view</td>\n",
              "      <td>5824148</td>\n",
              "      <td>1487580005511725929</td>\n",
              "      <td>NaN</td>\n",
              "      <td>NaN</td>\n",
              "      <td>5.56</td>\n",
              "      <td>576005683</td>\n",
              "      <td>28172809-7e4a-45ce-bab0-5efa90117cd5</td>\n",
              "    </tr>\n",
              "    <tr>\n",
              "      <th>5</th>\n",
              "      <td>2019-12-01 00:00:09 UTC</td>\n",
              "      <td>view</td>\n",
              "      <td>5773361</td>\n",
              "      <td>1487580005134238553</td>\n",
              "      <td>NaN</td>\n",
              "      <td>runail</td>\n",
              "      <td>2.62</td>\n",
              "      <td>560109803</td>\n",
              "      <td>38cf4ba1-4a0a-4c9e-b870-46685d105f95</td>\n",
              "    </tr>\n",
              "    <tr>\n",
              "      <th>6</th>\n",
              "      <td>2019-12-01 00:00:18 UTC</td>\n",
              "      <td>cart</td>\n",
              "      <td>5629988</td>\n",
              "      <td>1487580009311764506</td>\n",
              "      <td>NaN</td>\n",
              "      <td>NaN</td>\n",
              "      <td>1.19</td>\n",
              "      <td>579966747</td>\n",
              "      <td>1512be50-d0fd-4a92-bcd8-3ea3943f2a3b</td>\n",
              "    </tr>\n",
              "    <tr>\n",
              "      <th>7</th>\n",
              "      <td>2019-12-01 00:00:22 UTC</td>\n",
              "      <td>view</td>\n",
              "      <td>5807805</td>\n",
              "      <td>1487580005713052531</td>\n",
              "      <td>NaN</td>\n",
              "      <td>ingarden</td>\n",
              "      <td>4.44</td>\n",
              "      <td>576005683</td>\n",
              "      <td>28172809-7e4a-45ce-bab0-5efa90117cd5</td>\n",
              "    </tr>\n",
              "    <tr>\n",
              "      <th>8</th>\n",
              "      <td>2019-12-01 00:00:27 UTC</td>\n",
              "      <td>view</td>\n",
              "      <td>5588608</td>\n",
              "      <td>1487580008145748965</td>\n",
              "      <td>NaN</td>\n",
              "      <td>roubloff</td>\n",
              "      <td>5.40</td>\n",
              "      <td>546170008</td>\n",
              "      <td>676d9fcc-2a4f-4448-b49d-136f2e4208c1</td>\n",
              "    </tr>\n",
              "    <tr>\n",
              "      <th>9</th>\n",
              "      <td>2019-12-01 00:00:34 UTC</td>\n",
              "      <td>cart</td>\n",
              "      <td>5335</td>\n",
              "      <td>1487580009605365797</td>\n",
              "      <td>NaN</td>\n",
              "      <td>runail</td>\n",
              "      <td>0.40</td>\n",
              "      <td>494077766</td>\n",
              "      <td>c99a50e8-2fac-4c4d-89ec-41c05f114554</td>\n",
              "    </tr>\n",
              "  </tbody>\n",
              "</table>\n",
              "</div>\n",
              "    <div class=\"colab-df-buttons\">\n",
              "\n",
              "  <div class=\"colab-df-container\">\n",
              "    <button class=\"colab-df-convert\" onclick=\"convertToInteractive('df-11a5d250-6420-48f5-9c78-94e13f836c19')\"\n",
              "            title=\"Convert this dataframe to an interactive table.\"\n",
              "            style=\"display:none;\">\n",
              "\n",
              "  <svg xmlns=\"http://www.w3.org/2000/svg\" height=\"24px\" viewBox=\"0 -960 960 960\">\n",
              "    <path d=\"M120-120v-720h720v720H120Zm60-500h600v-160H180v160Zm220 220h160v-160H400v160Zm0 220h160v-160H400v160ZM180-400h160v-160H180v160Zm440 0h160v-160H620v160ZM180-180h160v-160H180v160Zm440 0h160v-160H620v160Z\"/>\n",
              "  </svg>\n",
              "    </button>\n",
              "\n",
              "  <style>\n",
              "    .colab-df-container {\n",
              "      display:flex;\n",
              "      gap: 12px;\n",
              "    }\n",
              "\n",
              "    .colab-df-convert {\n",
              "      background-color: #E8F0FE;\n",
              "      border: none;\n",
              "      border-radius: 50%;\n",
              "      cursor: pointer;\n",
              "      display: none;\n",
              "      fill: #1967D2;\n",
              "      height: 32px;\n",
              "      padding: 0 0 0 0;\n",
              "      width: 32px;\n",
              "    }\n",
              "\n",
              "    .colab-df-convert:hover {\n",
              "      background-color: #E2EBFA;\n",
              "      box-shadow: 0px 1px 2px rgba(60, 64, 67, 0.3), 0px 1px 3px 1px rgba(60, 64, 67, 0.15);\n",
              "      fill: #174EA6;\n",
              "    }\n",
              "\n",
              "    .colab-df-buttons div {\n",
              "      margin-bottom: 4px;\n",
              "    }\n",
              "\n",
              "    [theme=dark] .colab-df-convert {\n",
              "      background-color: #3B4455;\n",
              "      fill: #D2E3FC;\n",
              "    }\n",
              "\n",
              "    [theme=dark] .colab-df-convert:hover {\n",
              "      background-color: #434B5C;\n",
              "      box-shadow: 0px 1px 3px 1px rgba(0, 0, 0, 0.15);\n",
              "      filter: drop-shadow(0px 1px 2px rgba(0, 0, 0, 0.3));\n",
              "      fill: #FFFFFF;\n",
              "    }\n",
              "  </style>\n",
              "\n",
              "    <script>\n",
              "      const buttonEl =\n",
              "        document.querySelector('#df-11a5d250-6420-48f5-9c78-94e13f836c19 button.colab-df-convert');\n",
              "      buttonEl.style.display =\n",
              "        google.colab.kernel.accessAllowed ? 'block' : 'none';\n",
              "\n",
              "      async function convertToInteractive(key) {\n",
              "        const element = document.querySelector('#df-11a5d250-6420-48f5-9c78-94e13f836c19');\n",
              "        const dataTable =\n",
              "          await google.colab.kernel.invokeFunction('convertToInteractive',\n",
              "                                                    [key], {});\n",
              "        if (!dataTable) return;\n",
              "\n",
              "        const docLinkHtml = 'Like what you see? Visit the ' +\n",
              "          '<a target=\"_blank\" href=https://colab.research.google.com/notebooks/data_table.ipynb>data table notebook</a>'\n",
              "          + ' to learn more about interactive tables.';\n",
              "        element.innerHTML = '';\n",
              "        dataTable['output_type'] = 'display_data';\n",
              "        await google.colab.output.renderOutput(dataTable, element);\n",
              "        const docLink = document.createElement('div');\n",
              "        docLink.innerHTML = docLinkHtml;\n",
              "        element.appendChild(docLink);\n",
              "      }\n",
              "    </script>\n",
              "  </div>\n",
              "\n",
              "\n",
              "<div id=\"df-be4c4c96-a160-4fd9-a616-30b9a6b5d08f\">\n",
              "  <button class=\"colab-df-quickchart\" onclick=\"quickchart('df-be4c4c96-a160-4fd9-a616-30b9a6b5d08f')\"\n",
              "            title=\"Suggest charts\"\n",
              "            style=\"display:none;\">\n",
              "\n",
              "<svg xmlns=\"http://www.w3.org/2000/svg\" height=\"24px\"viewBox=\"0 0 24 24\"\n",
              "     width=\"24px\">\n",
              "    <g>\n",
              "        <path d=\"M19 3H5c-1.1 0-2 .9-2 2v14c0 1.1.9 2 2 2h14c1.1 0 2-.9 2-2V5c0-1.1-.9-2-2-2zM9 17H7v-7h2v7zm4 0h-2V7h2v10zm4 0h-2v-4h2v4z\"/>\n",
              "    </g>\n",
              "</svg>\n",
              "  </button>\n",
              "\n",
              "<style>\n",
              "  .colab-df-quickchart {\n",
              "      --bg-color: #E8F0FE;\n",
              "      --fill-color: #1967D2;\n",
              "      --hover-bg-color: #E2EBFA;\n",
              "      --hover-fill-color: #174EA6;\n",
              "      --disabled-fill-color: #AAA;\n",
              "      --disabled-bg-color: #DDD;\n",
              "  }\n",
              "\n",
              "  [theme=dark] .colab-df-quickchart {\n",
              "      --bg-color: #3B4455;\n",
              "      --fill-color: #D2E3FC;\n",
              "      --hover-bg-color: #434B5C;\n",
              "      --hover-fill-color: #FFFFFF;\n",
              "      --disabled-bg-color: #3B4455;\n",
              "      --disabled-fill-color: #666;\n",
              "  }\n",
              "\n",
              "  .colab-df-quickchart {\n",
              "    background-color: var(--bg-color);\n",
              "    border: none;\n",
              "    border-radius: 50%;\n",
              "    cursor: pointer;\n",
              "    display: none;\n",
              "    fill: var(--fill-color);\n",
              "    height: 32px;\n",
              "    padding: 0;\n",
              "    width: 32px;\n",
              "  }\n",
              "\n",
              "  .colab-df-quickchart:hover {\n",
              "    background-color: var(--hover-bg-color);\n",
              "    box-shadow: 0 1px 2px rgba(60, 64, 67, 0.3), 0 1px 3px 1px rgba(60, 64, 67, 0.15);\n",
              "    fill: var(--button-hover-fill-color);\n",
              "  }\n",
              "\n",
              "  .colab-df-quickchart-complete:disabled,\n",
              "  .colab-df-quickchart-complete:disabled:hover {\n",
              "    background-color: var(--disabled-bg-color);\n",
              "    fill: var(--disabled-fill-color);\n",
              "    box-shadow: none;\n",
              "  }\n",
              "\n",
              "  .colab-df-spinner {\n",
              "    border: 2px solid var(--fill-color);\n",
              "    border-color: transparent;\n",
              "    border-bottom-color: var(--fill-color);\n",
              "    animation:\n",
              "      spin 1s steps(1) infinite;\n",
              "  }\n",
              "\n",
              "  @keyframes spin {\n",
              "    0% {\n",
              "      border-color: transparent;\n",
              "      border-bottom-color: var(--fill-color);\n",
              "      border-left-color: var(--fill-color);\n",
              "    }\n",
              "    20% {\n",
              "      border-color: transparent;\n",
              "      border-left-color: var(--fill-color);\n",
              "      border-top-color: var(--fill-color);\n",
              "    }\n",
              "    30% {\n",
              "      border-color: transparent;\n",
              "      border-left-color: var(--fill-color);\n",
              "      border-top-color: var(--fill-color);\n",
              "      border-right-color: var(--fill-color);\n",
              "    }\n",
              "    40% {\n",
              "      border-color: transparent;\n",
              "      border-right-color: var(--fill-color);\n",
              "      border-top-color: var(--fill-color);\n",
              "    }\n",
              "    60% {\n",
              "      border-color: transparent;\n",
              "      border-right-color: var(--fill-color);\n",
              "    }\n",
              "    80% {\n",
              "      border-color: transparent;\n",
              "      border-right-color: var(--fill-color);\n",
              "      border-bottom-color: var(--fill-color);\n",
              "    }\n",
              "    90% {\n",
              "      border-color: transparent;\n",
              "      border-bottom-color: var(--fill-color);\n",
              "    }\n",
              "  }\n",
              "</style>\n",
              "\n",
              "  <script>\n",
              "    async function quickchart(key) {\n",
              "      const quickchartButtonEl =\n",
              "        document.querySelector('#' + key + ' button');\n",
              "      quickchartButtonEl.disabled = true;  // To prevent multiple clicks.\n",
              "      quickchartButtonEl.classList.add('colab-df-spinner');\n",
              "      try {\n",
              "        const charts = await google.colab.kernel.invokeFunction(\n",
              "            'suggestCharts', [key], {});\n",
              "      } catch (error) {\n",
              "        console.error('Error during call to suggestCharts:', error);\n",
              "      }\n",
              "      quickchartButtonEl.classList.remove('colab-df-spinner');\n",
              "      quickchartButtonEl.classList.add('colab-df-quickchart-complete');\n",
              "    }\n",
              "    (() => {\n",
              "      let quickchartButtonEl =\n",
              "        document.querySelector('#df-be4c4c96-a160-4fd9-a616-30b9a6b5d08f button');\n",
              "      quickchartButtonEl.style.display =\n",
              "        google.colab.kernel.accessAllowed ? 'block' : 'none';\n",
              "    })();\n",
              "  </script>\n",
              "</div>\n",
              "\n",
              "    </div>\n",
              "  </div>\n"
            ],
            "application/vnd.google.colaboratory.intrinsic+json": {
              "type": "dataframe",
              "variable_name": "df_1"
            }
          },
          "metadata": {},
          "execution_count": 8
        }
      ],
      "source": [
        "df_1.head(10)"
      ]
    },
    {
      "cell_type": "code",
      "source": [
        "df_1.info()"
      ],
      "metadata": {
        "colab": {
          "base_uri": "https://localhost:8080/"
        },
        "id": "J3S9W2sgrOqw",
        "outputId": "3eb219de-1028-4699-f771-82d4377b6624"
      },
      "execution_count": null,
      "outputs": [
        {
          "output_type": "stream",
          "name": "stdout",
          "text": [
            "<class 'pandas.core.frame.DataFrame'>\n",
            "RangeIndex: 20692840 entries, 0 to 20692839\n",
            "Data columns (total 9 columns):\n",
            " #   Column         Dtype  \n",
            "---  ------         -----  \n",
            " 0   event_time     object \n",
            " 1   event_type     object \n",
            " 2   product_id     int64  \n",
            " 3   category_id    int64  \n",
            " 4   category_code  object \n",
            " 5   brand          object \n",
            " 6   price          float64\n",
            " 7   user_id        int64  \n",
            " 8   user_session   object \n",
            "dtypes: float64(1), int64(3), object(5)\n",
            "memory usage: 1.4+ GB\n"
          ]
        }
      ]
    },
    {
      "cell_type": "code",
      "source": [
        "df_1['event_time'].value_counts()"
      ],
      "metadata": {
        "colab": {
          "base_uri": "https://localhost:8080/"
        },
        "id": "xZi3rq-isRsW",
        "outputId": "41c5ac9e-cd66-45ff-9aee-eab809b5b839"
      },
      "execution_count": null,
      "outputs": [
        {
          "output_type": "execute_result",
          "data": {
            "text/plain": [
              "2020-02-15 16:08:37 UTC    3087\n",
              "2020-02-05 09:55:55 UTC    2067\n",
              "2020-02-06 18:10:38 UTC    1982\n",
              "2020-02-05 09:55:40 UTC    1892\n",
              "2020-02-15 16:08:56 UTC    1075\n",
              "                           ... \n",
              "2019-10-13 00:27:19 UTC       1\n",
              "2019-10-13 00:27:17 UTC       1\n",
              "2019-10-13 00:27:16 UTC       1\n",
              "2019-10-13 00:27:13 UTC       1\n",
              "2020-01-31 23:59:58 UTC       1\n",
              "Name: event_time, Length: 8782890, dtype: int64"
            ]
          },
          "metadata": {},
          "execution_count": 10
        }
      ]
    },
    {
      "cell_type": "code",
      "source": [
        "df_1['event_type'].value_counts()"
      ],
      "metadata": {
        "colab": {
          "base_uri": "https://localhost:8080/"
        },
        "id": "qAGTVNJJsRoP",
        "outputId": "3cde3c2b-d15e-43dc-af5e-50d6fd59360e"
      },
      "execution_count": null,
      "outputs": [
        {
          "output_type": "execute_result",
          "data": {
            "text/plain": [
              "view                9657821\n",
              "cart                5768333\n",
              "remove_from_cart    3979679\n",
              "purchase            1287007\n",
              "Name: event_type, dtype: int64"
            ]
          },
          "metadata": {},
          "execution_count": 11
        }
      ]
    },
    {
      "cell_type": "code",
      "source": [
        "df_1['product_id'].value_counts()"
      ],
      "metadata": {
        "colab": {
          "base_uri": "https://localhost:8080/"
        },
        "id": "7T6rVYO5sRkf",
        "outputId": "6bcdf568-e270-40df-ebce-9cab709026f7"
      },
      "execution_count": null,
      "outputs": [
        {
          "output_type": "execute_result",
          "data": {
            "text/plain": [
              "5809910    141650\n",
              "5809912     55606\n",
              "5700037     51111\n",
              "5802432     45008\n",
              "5854897     44799\n",
              "            ...  \n",
              "5815775         1\n",
              "5688893         1\n",
              "5568096         1\n",
              "5701709         1\n",
              "5682848         1\n",
              "Name: product_id, Length: 54571, dtype: int64"
            ]
          },
          "metadata": {},
          "execution_count": 12
        }
      ]
    },
    {
      "cell_type": "code",
      "source": [
        "df_1['category_id'].value_counts()"
      ],
      "metadata": {
        "colab": {
          "base_uri": "https://localhost:8080/"
        },
        "id": "wvlcWm6PsRgR",
        "outputId": "70d05c15-aa91-4dfb-a577-cb37c33201c3"
      },
      "execution_count": null,
      "outputs": [
        {
          "output_type": "execute_result",
          "data": {
            "text/plain": [
              "1487580007675986893    1062716\n",
              "1487580005595612013     789465\n",
              "1487580005092295511     770985\n",
              "1487580005671109489     680648\n",
              "1487580006317032337     646704\n",
              "                        ...   \n",
              "1487580007155893175          2\n",
              "1487580009890578479          1\n",
              "1487580010897211483          1\n",
              "1487580011056595041          1\n",
              "1487580009706029097          1\n",
              "Name: category_id, Length: 525, dtype: int64"
            ]
          },
          "metadata": {},
          "execution_count": 13
        }
      ]
    },
    {
      "cell_type": "code",
      "source": [
        "df_1['category_code'].value_counts()  ## 결측치 다수 -> 카테고리 id와 매칭시켜서 보완하기"
      ],
      "metadata": {
        "colab": {
          "base_uri": "https://localhost:8080/"
        },
        "id": "EYFcrN3esaLN",
        "outputId": "563fdc4c-8629-43bd-cc60-33f748faa323"
      },
      "execution_count": null,
      "outputs": [
        {
          "output_type": "execute_result",
          "data": {
            "text/plain": [
              "appliances.environment.vacuum             149168\n",
              "stationery.cartrige                        59728\n",
              "apparel.glove                              52575\n",
              "furniture.living_room.cabinet              30560\n",
              "accessories.bag                            24253\n",
              "furniture.bathroom.bath                    23931\n",
              "appliances.personal.hair_cutter             5384\n",
              "accessories.cosmetic_bag                    3644\n",
              "appliances.personal.massager                3296\n",
              "appliances.environment.air_conditioner       708\n",
              "furniture.living_room.chair                  343\n",
              "sport.diving                                   4\n",
              "Name: category_code, dtype: int64"
            ]
          },
          "metadata": {},
          "execution_count": 14
        }
      ]
    },
    {
      "cell_type": "code",
      "source": [
        "df_1['brand'].value_counts() ## 결측치 다수 : 약 40%가 결측치로 존재함. 브랜드의 사용 가치 생각해보기."
      ],
      "metadata": {
        "colab": {
          "base_uri": "https://localhost:8080/"
        },
        "id": "ylC5jH8DsdQs",
        "outputId": "babce6dd-67d7-49dc-c491-7b0ca1455acb"
      },
      "execution_count": null,
      "outputs": [
        {
          "output_type": "execute_result",
          "data": {
            "text/plain": [
              "runail       1528908\n",
              "irisk        1033852\n",
              "masura        861763\n",
              "grattol       852591\n",
              "bpw.style     434813\n",
              "              ...   \n",
              "shifei             9\n",
              "vl-gel             7\n",
              "dessata            6\n",
              "gena               3\n",
              "pueen              1\n",
              "Name: brand, Length: 273, dtype: int64"
            ]
          },
          "metadata": {},
          "execution_count": 15
        }
      ]
    },
    {
      "cell_type": "code",
      "source": [
        "df_1['price'].value_counts()"
      ],
      "metadata": {
        "colab": {
          "base_uri": "https://localhost:8080/"
        },
        "id": "xcKOY0Q-sdMs",
        "outputId": "790aa6f6-a7e1-4af5-c332-7ed376251fcb"
      },
      "execution_count": null,
      "outputs": [
        {
          "output_type": "execute_result",
          "data": {
            "text/plain": [
              "5.24     620768\n",
              "3.97     598502\n",
              "0.79     541460\n",
              "3.00     529433\n",
              "4.44     501977\n",
              "          ...  \n",
              "34.68         1\n",
              "19.70         1\n",
              "39.27         1\n",
              "19.22         1\n",
              "53.49         1\n",
              "Name: price, Length: 2860, dtype: int64"
            ]
          },
          "metadata": {},
          "execution_count": 16
        }
      ]
    },
    {
      "cell_type": "code",
      "source": [
        "df_1['user_id'].value_counts()"
      ],
      "metadata": {
        "colab": {
          "base_uri": "https://localhost:8080/"
        },
        "id": "FNV5Nz3SsdJR",
        "outputId": "b28d3f21-b145-4c99-d9c5-b37cb8fc9cdd"
      },
      "execution_count": null,
      "outputs": [
        {
          "output_type": "execute_result",
          "data": {
            "text/plain": [
              "527021202    26752\n",
              "557616099     9903\n",
              "583884978     9420\n",
              "419558969     8283\n",
              "476450673     8122\n",
              "             ...  \n",
              "583616620        1\n",
              "548465166        1\n",
              "565377447        1\n",
              "548451124        1\n",
              "560889817        1\n",
              "Name: user_id, Length: 1639358, dtype: int64"
            ]
          },
          "metadata": {},
          "execution_count": 17
        }
      ]
    },
    {
      "cell_type": "code",
      "source": [
        "df_1['user_session'].value_counts() ## 결측치 존재(2%) // 전처리에 대한 고민이 가장 큼.. 그냥 컬럼 날릴까..."
      ],
      "metadata": {
        "colab": {
          "base_uri": "https://localhost:8080/"
        },
        "id": "Lp0O0f3psdEc",
        "outputId": "aa31bb4c-0c83-43a0-d049-96f633486833"
      },
      "execution_count": null,
      "outputs": [
        {
          "output_type": "execute_result",
          "data": {
            "text/plain": [
              "74206ba1-c863-4760-bbdc-b11777059e46    5411\n",
              "dee05e29-f331-48dc-b1b3-547985fc2aa4    5323\n",
              "d7998d70-7562-4ff0-8870-5ace290db2c9    4193\n",
              "a062f07b-4eef-4266-8660-b3040ed412aa    4037\n",
              "ec5821ee-396d-4b72-a89b-50aea5b0847b    3785\n",
              "                                        ... \n",
              "c3d9556d-036b-4b1d-8448-a6b72ce13355       1\n",
              "e401824b-6728-49c7-8b5a-0d59e2756507       1\n",
              "04816d12-04f9-4be1-9257-15e07cefe67a       1\n",
              "ce1d9da0-7b7a-4c5c-a709-9ffb9702fea5       1\n",
              "fc7063a6-b45e-4863-babb-da4934b83388       1\n",
              "Name: user_session, Length: 4535941, dtype: int64"
            ]
          },
          "metadata": {},
          "execution_count": 18
        }
      ]
    },
    {
      "cell_type": "code",
      "source": [
        "df_2 = df_1.drop(columns = 'user_session')\n",
        "df_2.duplicated(keep=False).sum()"
      ],
      "metadata": {
        "colab": {
          "base_uri": "https://localhost:8080/"
        },
        "id": "uJgLalznsmuU",
        "outputId": "04d6a5f1-66de-4ecd-8b56-c72f1ec7e658"
      },
      "execution_count": null,
      "outputs": [
        {
          "output_type": "execute_result",
          "data": {
            "text/plain": [
              "2174900"
            ]
          },
          "metadata": {},
          "execution_count": 19
        }
      ]
    },
    {
      "cell_type": "code",
      "source": [
        "df_1.duplicated(keep = False).sum()"
      ],
      "metadata": {
        "colab": {
          "base_uri": "https://localhost:8080/"
        },
        "id": "BFyciXfCsmqx",
        "outputId": "de07ca99-329b-4222-d29e-715c90f07cde"
      },
      "execution_count": null,
      "outputs": [
        {
          "output_type": "execute_result",
          "data": {
            "text/plain": [
              "2154860"
            ]
          },
          "metadata": {},
          "execution_count": 20
        }
      ]
    },
    {
      "cell_type": "code",
      "source": [],
      "metadata": {
        "id": "27pBkOi3smnK"
      },
      "execution_count": null,
      "outputs": []
    },
    {
      "cell_type": "code",
      "source": [],
      "metadata": {
        "id": "eUF9cFZbsmh6"
      },
      "execution_count": null,
      "outputs": []
    },
    {
      "cell_type": "markdown",
      "metadata": {
        "id": "Q1Cu6k02vLmI"
      },
      "source": [
        "데이터 품질\n",
        "- 정확성 : 다른 이커머스의 데이터가 혼합되어 있음\n",
        "- 완전성 : 결측치가 존재\n",
        "- 고유성 : 중복값 존재(유저세션으로 인한)\n",
        "- 적시/피트니스 : price 컬럼이 이미 변환된 상태로 예측됨.(추가로 오입력의 경우도 포함된 거라고 예상)\n"
      ]
    },
    {
      "cell_type": "markdown",
      "metadata": {
        "id": "gD9JHpqknEVh"
      },
      "source": [
        "## 3.데이터 전처리"
      ]
    },
    {
      "cell_type": "markdown",
      "metadata": {
        "id": "37RV2i9TpYkg"
      },
      "source": [
        "### 3-1.중복값 제거"
      ]
    },
    {
      "cell_type": "code",
      "execution_count": null,
      "metadata": {
        "id": "Xf-lBhvhnPsg"
      },
      "outputs": [],
      "source": [
        "df_1 = df_1.drop(columns='user_session') # 유저 세션 컬럼을 먼저 삭제한다\n",
        "df_1 = df_1.drop_duplicates() # 중복값 제거\n",
        "df_1.duplicated(keep = False).sum() # 중복값 확인"
      ]
    },
    {
      "cell_type": "code",
      "execution_count": null,
      "metadata": {
        "id": "y6BxU0depfMq"
      },
      "outputs": [],
      "source": [
        "df_1.isnull().sum()"
      ]
    },
    {
      "cell_type": "code",
      "execution_count": null,
      "metadata": {
        "id": "LJMCRAHepfJb"
      },
      "outputs": [],
      "source": [
        "null_table = df_1.isnull().value_counts()\n",
        "pd.DataFrame(null_table)"
      ]
    },
    {
      "cell_type": "code",
      "execution_count": null,
      "metadata": {
        "id": "C9NnXHpppfGT"
      },
      "outputs": [],
      "source": [
        "df_1.info() # 조정된 데이터 다시 확인하기"
      ]
    },
    {
      "cell_type": "code",
      "execution_count": null,
      "metadata": {
        "id": "ByFV30b8ps_I"
      },
      "outputs": [],
      "source": [
        "# 인덱스 재정렬이 안 된 것을 확인하여 재정렬 수행\n",
        "df_1 = df_1.reset_index(drop=True)\n",
        "\n",
        "df_1"
      ]
    },
    {
      "cell_type": "markdown",
      "metadata": {
        "id": "9-hT90rdpvOO"
      },
      "source": [
        "### 3-2.결측치 처리"
      ]
    },
    {
      "cell_type": "markdown",
      "metadata": {
        "id": "38LqOj1jp60i"
      },
      "source": [
        "#### 1) category_code"
      ]
    },
    {
      "cell_type": "code",
      "execution_count": null,
      "metadata": {
        "id": "3szqk2yq6o9j"
      },
      "outputs": [],
      "source": [
        "df_1.isnull().sum()"
      ]
    },
    {
      "cell_type": "code",
      "execution_count": null,
      "metadata": {
        "id": "E3CxTYl2qAIj"
      },
      "outputs": [],
      "source": [
        "df_1['category_code'].value_counts()"
      ]
    },
    {
      "cell_type": "markdown",
      "metadata": {
        "id": "4S3Od6cZqFsu"
      },
      "source": [
        "- category_code의 데이터 종류는 12가지가 있는데, 차지하는 수도 많지 않고 항목을 보면 코스메틱 샵과는 거리가 먼 카테고리 이름들이 나타나 있다. 일자 별 분포를 확인해보자"
      ]
    },
    {
      "cell_type": "code",
      "execution_count": null,
      "metadata": {
        "id": "Y5J1EVFfqAFT"
      },
      "outputs": [],
      "source": [
        "df_1['event_time'] = pd.to_datetime(df_1['event_time']) ## 먼저 데이터 유형을 바꿔준다"
      ]
    },
    {
      "cell_type": "code",
      "execution_count": null,
      "metadata": {
        "id": "iCmNA_jKqABb"
      },
      "outputs": [],
      "source": [
        " # 시간은 제외하고 일자만 볼 수 있게 따로 일자 컬럼을 만들어준다\n",
        "df_1['e_date'] = df_1['event_time'].dt.date"
      ]
    },
    {
      "cell_type": "code",
      "execution_count": null,
      "metadata": {
        "id": "fACrv4il6xxN"
      },
      "outputs": [],
      "source": [
        "category_code_counts = df_1.groupby(['date_only', 'category_code']).size().reset_index(name='count')\n",
        "\n",
        "pivot_table = category_code_counts.pivot(index='date_only', columns='category_code', values='count').fillna(0)\n",
        "\n",
        "pivot_table.plot(kind='bar', stacked=True, figsize=(12, 6))\n",
        "plt.title('Distribution of category_code over Date')\n",
        "plt.xlabel('Date')\n",
        "plt.ylabel('Count')\n",
        "plt.legend(title='Category Code', bbox_to_anchor=(1.05, 1), loc='upper left')\n",
        "plt.show()"
      ]
    },
    {
      "cell_type": "code",
      "execution_count": null,
      "metadata": {
        "id": "-OkXj6gs6xtj"
      },
      "outputs": [],
      "source": [
        "category_code_counts = df_1.groupby(['date_only', 'category_code']).size().reset_index(name='count')\n",
        "\n",
        "plt.figure(figsize=(12, 6))\n",
        "sns.scatterplot(x='date_only', y='category_code', size='count', data=category_code_counts, hue='count', palette='viridis', alpha=0.7)\n",
        "plt.title('Distribution of category_code over Date')\n",
        "plt.xlabel('Date')\n",
        "plt.ylabel('Category Code')\n",
        "plt.legend(title='Count', bbox_to_anchor=(1.05, 1), loc='upper left')\n",
        "plt.show()"
      ]
    },
    {
      "cell_type": "markdown",
      "metadata": {
        "id": "HiTTLI8f63Y9"
      },
      "source": [
        "- 카테고리 코드가 존재하는 데이터들의 데이터 입력 기간이 한 쪽으로 쏠려있지 않을까 예상했는데 그렇진 않았다.\n",
        "- 그럼 카테고리 코드가 존재하는 데이터 들은 화장품 외의 항목이지 않을까? 하는 예측을 해본다. 그러나 결측치가 있는 값들이 모두 화장품 인 것인지, 섞여있는 지 알 수 없다.\n",
        "- product_id가 위 사항과 겹치는 게 있는 지 확인하고, 겹치지 않는다면, code 결측치 부분은 모두 화장품으로, 값이 있는 부분은 화장품이 아닌 다른 특정 카테고리 임을 가정하고 분석을 진행하도록 하자\n",
        "- 그리고 결측치를 cosmetics로 채워주자\n",
        "---\n",
        "이번엔 category_code와 id의 관계를 확인해보자"
      ]
    },
    {
      "cell_type": "code",
      "execution_count": null,
      "metadata": {
        "id": "ePJGYY7m6xrm"
      },
      "outputs": [],
      "source": [
        "duplicates = df_1.dropna(subset=['category_code']) # 카테고리 코드의 결측치가 있는 행을 삭제하기\n",
        "duplicates = duplicates[duplicates.duplicated(subset=['category_code', 'category_id'], keep=False)] # 카테고리 코드와 id가 중복되는 행만을 출력하도록 할당\n",
        "\n",
        "pd.DataFrame(duplicates[['category_code', 'category_id']])"
      ]
    },
    {
      "cell_type": "code",
      "execution_count": null,
      "metadata": {
        "id": "Jv-TuVOz6xol"
      },
      "outputs": [],
      "source": [
        "duplicates_sorted = duplicates.sort_values(by='category_code') # 카테고리 코드를 기준으로 정렬\n",
        "\n",
        "pd.DataFrame(duplicates_sorted[['category_code', 'category_id']])"
      ]
    },
    {
      "cell_type": "code",
      "execution_count": null,
      "metadata": {
        "id": "CecQ4zQ26xmy"
      },
      "outputs": [],
      "source": [
        "# category_code : category_id 관계? 확인\n",
        "filtered_df = df_1.dropna(subset=['category_code']) # 카테고리 코드 결측치 제거한 값 할당\n",
        "\n",
        "correspondence_df = filtered_df.groupby('category_id')['category_code'].unique().reset_index(name='category_codes_list') # id당 코드 확인\n",
        "\n",
        "print(correspondence_df)"
      ]
    },
    {
      "cell_type": "markdown",
      "metadata": {
        "id": "SW-8wxd97LW2"
      },
      "source": [
        "- category_code의 결측치를 제외했을 때의 id와의 매치를 보면 카테고리 id에 따라 code가 다른 것을 확인할 수 있다.\n",
        "- cdoe의 결측치를 삭제하지 않은 행에서 id가 위 17개와 같은 데이터가 있는 지 확인하고 있으면 카테고리 코드를 채워줘도 될 것 같다.\n",
        "- 다만, id는 총 525개 였기 때문에 남은 결측치를 어떻게 할 것인지를 생각해야 하고, 만약 남은 행에서는 동일한 id가 없다면 정말로 위의 데이터는 이상치이거나 전의 데이터가 남아있을 확률/ 잘못 들어왔을 확률이 존재하기에 위 데이터를 삭제해야 할 수 있다.(342,758개) -> 이 경우 품목을 전혀 알 수 없어지는 문제가 발생함\n",
        "- 아니라면, 카테고리 코드를 '.'로 잘라서 맨 앞 단어를 대분류, 그 다음을 중분류, 소분류로 나눌 수도 있을 것 같음"
      ]
    },
    {
      "cell_type": "code",
      "execution_count": null,
      "metadata": {
        "id": "UPBNYbna6xkx"
      },
      "outputs": [],
      "source": [
        "filtered_df['category_id'].value_counts()"
      ]
    },
    {
      "cell_type": "code",
      "execution_count": null,
      "metadata": {
        "id": "F4lVVxS67QB0"
      },
      "outputs": [],
      "source": [
        "pd.DataFrame(df_1['category_id'].value_counts())"
      ]
    },
    {
      "cell_type": "code",
      "execution_count": null,
      "metadata": {
        "id": "wv1A1ulV7Qjn"
      },
      "outputs": [],
      "source": [
        "mask = ~df_1['category_code'].isin(filtered_df['category_code'])\n",
        "remaining_rows_df = df_1[mask]\n",
        "\n",
        "# category_id_list = ['1487580006350586771', '1487580013053083824', '2007399943458784057'] ## 수정 필요\n",
        "# mask = remaining_rows_df['category_id'].isin(category_id_list)\n",
        "\n",
        "# filtered_rows_df = remaining_rows_df[mask]"
      ]
    },
    {
      "cell_type": "code",
      "execution_count": null,
      "metadata": {
        "id": "BpG2Bkkx7Qhi"
      },
      "outputs": [],
      "source": [
        "category_id_counts = remaining_rows_df['category_id'].value_counts()\n",
        "\n",
        "category_id_counts_df = category_id_counts.reset_index()\n",
        "category_id_counts_df.columns = ['category_id', 'count']\n",
        "\n",
        "print(category_id_counts_df)"
      ]
    },
    {
      "cell_type": "code",
      "execution_count": null,
      "metadata": {
        "id": "HRYfzVWv7QeK"
      },
      "outputs": [],
      "source": [
        "category_id_counts_df.sum()"
      ]
    },
    {
      "cell_type": "markdown",
      "metadata": {
        "id": "xSHeyY4O7XEo"
      },
      "source": [
        "- category_id는 결측치가 있는 행과 없는 행의 중복은 존재하지 않음."
      ]
    },
    {
      "cell_type": "code",
      "execution_count": null,
      "metadata": {
        "id": "6Eunq7ta7Qbu"
      },
      "outputs": [],
      "source": [
        "# 이제 product_id와 비교해보자\n",
        "# category_code의 값이 채워져있는 행과 결측치가 있는 행의 product_id가 같은 곳이 있는 지 확인하고 싶다.\n",
        "\n",
        "missing_category_rows = df_1[df_1['category_code'].isnull()]\n",
        "filled_category_rows = df_1.dropna(subset=['category_code'])\n",
        "\n",
        "overlap_product_ids = set(missing_category_rows['product_id']).intersection(set(filled_category_rows['product_id']))\n",
        "\n",
        "if overlap_product_ids:\n",
        "    print(\"There are overlapping product_id values.\")\n",
        "    print(\"Overlapping Product IDs:\", overlap_product_ids)\n",
        "else:\n",
        "    print(\"There are no overlapping product_id values.\")"
      ]
    },
    {
      "cell_type": "code",
      "execution_count": null,
      "metadata": {
        "id": "L74CjbdW7biw"
      },
      "outputs": [],
      "source": [
        "result_df =df_1[df_1['product_id'].isin(overlap_product_ids)]\n",
        "result_df = result_df.sort_values(by='product_id')\n",
        "result_df"
      ]
    },
    {
      "cell_type": "markdown",
      "metadata": {
        "id": "zj9p2XDg7d92"
      },
      "source": [
        "- 세상에 처음의 예상대로 카테고리 코드가 입력된 데이터는 다른 쇼핑몰의 데이터인 것 같다. product_id는 같은데 category_code가 있는 것과 없는 것으로 category_id의 값이 달라지는 것을 확인할 수 있다.\n",
        "- 카테고리 코드가 입력된 행들은 삭제하고, 카테고리 코드 컬럼을 삭제하기로 한다."
      ]
    },
    {
      "cell_type": "code",
      "execution_count": null,
      "metadata": {
        "id": "Ogm9wv087gCR"
      },
      "outputs": [],
      "source": [
        "remaining_rows_df"
      ]
    },
    {
      "cell_type": "code",
      "execution_count": null,
      "metadata": {
        "id": "Hp5B0yyk7h1J"
      },
      "outputs": [],
      "source": [
        "df_1 = remaining_rows_df"
      ]
    },
    {
      "cell_type": "code",
      "execution_count": null,
      "metadata": {
        "id": "_JUb90bP7jAw"
      },
      "outputs": [],
      "source": [
        "df_1 = df_1.drop(['category_code'], axis =1)\n",
        "df_1"
      ]
    },
    {
      "cell_type": "markdown",
      "metadata": {
        "id": "3LmIkikt7l1L"
      },
      "source": [
        "- 카테고리 코드의 결측치 값이 옳은 값들이라 그 수 만큼 행이 남았다."
      ]
    },
    {
      "cell_type": "markdown",
      "metadata": {
        "id": "f7RhHcno7ndS"
      },
      "source": [
        "#### 2) brand"
      ]
    },
    {
      "cell_type": "code",
      "source": [
        "df_1.isnull().sum()"
      ],
      "metadata": {
        "id": "SfrfApWmtYUN"
      },
      "execution_count": null,
      "outputs": []
    },
    {
      "cell_type": "code",
      "source": [
        "df_1['brand'].value_counts()"
      ],
      "metadata": {
        "id": "lIs1vlhetYQZ"
      },
      "execution_count": null,
      "outputs": []
    },
    {
      "cell_type": "code",
      "source": [
        "df_1['product_id'].value_counts()"
      ],
      "metadata": {
        "id": "NFDeR3l7tYM-"
      },
      "execution_count": null,
      "outputs": []
    },
    {
      "cell_type": "code",
      "source": [
        "## 제품 id와 브랜드를  비교해보자. -> product_id가 같은데 brand가 비어있다면 해당 brand로 채워주면 어떨까?\n",
        "\n",
        "df_2 = df_1.dropna(subset=['brand'], axis=0)\n",
        "df_2 # brand의 결측치 행을 제외한 값"
      ],
      "metadata": {
        "id": "qc2mPmLYtYIt"
      },
      "execution_count": null,
      "outputs": []
    },
    {
      "cell_type": "code",
      "source": [
        "# product_id 별 brand가 하나만 있는 지 확인해보자\n",
        "brand_by_product_id = df_2.groupby('product_id')['brand'].unique().reset_index()\n",
        "pd.DataFrame(brand_by_product_id)"
      ],
      "metadata": {
        "id": "vm1zhp0BthU1"
      },
      "execution_count": null,
      "outputs": []
    },
    {
      "cell_type": "code",
      "source": [
        "df_1['brand'].fillna(df_1.groupby('product_id')['brand'].transform('first'), inplace=True)\n",
        "print(df_1)"
      ],
      "metadata": {
        "id": "w8X047rethR4"
      },
      "execution_count": null,
      "outputs": []
    },
    {
      "cell_type": "code",
      "source": [
        "df_1.isnull().sum()"
      ],
      "metadata": {
        "id": "k_2cczNQthM1"
      },
      "execution_count": null,
      "outputs": []
    },
    {
      "cell_type": "markdown",
      "source": [
        "- 채워진 값이 약 8만 정도이다.\n",
        "- 결측치가 아직도... 8백만.... 어카지....\n",
        "- 행 삭제...? 채워진 값이 전체 데이터의 약 40%\n",
        "- 어떡할까..... 브랜드 컬럼 삭제?\n",
        "- 일단 결측치를 - 로 채우고 분석 시작해 보기"
      ],
      "metadata": {
        "id": "LS4wbJyNto7U"
      }
    },
    {
      "cell_type": "code",
      "source": [
        "df_1['brand'].fillna('-', inplace=True)"
      ],
      "metadata": {
        "id": "JiuGiOGVthI8"
      },
      "execution_count": null,
      "outputs": []
    },
    {
      "cell_type": "code",
      "source": [
        "df_1['brand'].value_counts()"
      ],
      "metadata": {
        "id": "Addq86V9twEg"
      },
      "execution_count": null,
      "outputs": []
    },
    {
      "cell_type": "markdown",
      "metadata": {
        "id": "u65fDzne4k3a"
      },
      "source": [
        "### 3-3.price 컬럼 값 변환하기"
      ]
    },
    {
      "cell_type": "code",
      "execution_count": null,
      "metadata": {
        "id": "egQ-UiHeSmg3"
      },
      "outputs": [],
      "source": [
        "np.set_printoptions(precision=6, suppress=True)\n",
        "\n",
        "pd.options.display.float_format = '{:.2f}'.format"
      ]
    },
    {
      "cell_type": "code",
      "execution_count": null,
      "metadata": {
        "id": "sLNlcV8pOXmJ"
      },
      "outputs": [],
      "source": [
        "## 음수값 양수로 바꾸기 : 총 124개의 값\n",
        "\n",
        "df_1['price'] = df_1['price'].abs()"
      ]
    },
    {
      "cell_type": "code",
      "execution_count": null,
      "metadata": {
        "colab": {
          "base_uri": "https://localhost:8080/"
        },
        "id": "kTBvFPEJPDWy",
        "outputId": "c5cae97c-e5fe-4c9c-9604-c29814f3f85e"
      },
      "outputs": [
        {
          "data": {
            "text/plain": [
              "617212       0.00\n",
              "12716961     0.00\n",
              "7270865      0.00\n",
              "2030550      0.00\n",
              "11804689     0.00\n",
              "            ...  \n",
              "19023336   327.78\n",
              "19178919   327.78\n",
              "16959943   327.78\n",
              "905453     327.78\n",
              "18768114   327.78\n",
              "Name: price, Length: 19229133, dtype: float64"
            ]
          },
          "execution_count": 61,
          "metadata": {},
          "output_type": "execute_result"
        }
      ],
      "source": [
        "df_1['price'].sort_values()"
      ]
    },
    {
      "cell_type": "code",
      "execution_count": null,
      "metadata": {
        "id": "3N-6Z5NjXhGa"
      },
      "outputs": [],
      "source": [
        "## price 값 shift\n",
        "\n",
        "df_1['price'] = df_1['price'] + 1"
      ]
    },
    {
      "cell_type": "code",
      "execution_count": null,
      "metadata": {
        "colab": {
          "base_uri": "https://localhost:8080/"
        },
        "id": "ScIY6fPVYPJD",
        "outputId": "2b05805a-8ba6-435d-ce8e-6c689b6d0243"
      },
      "outputs": [
        {
          "data": {
            "text/plain": [
              "617212       1.00\n",
              "12716961     1.00\n",
              "7270865      1.00\n",
              "2030550      1.00\n",
              "11804689     1.00\n",
              "            ...  \n",
              "19023336   328.78\n",
              "19178919   328.78\n",
              "16959943   328.78\n",
              "905453     328.78\n",
              "18768114   328.78\n",
              "Name: price, Length: 19229133, dtype: float64"
            ]
          },
          "execution_count": 63,
          "metadata": {},
          "output_type": "execute_result"
        }
      ],
      "source": [
        "df_1['price'].sort_values()"
      ]
    },
    {
      "cell_type": "code",
      "execution_count": null,
      "metadata": {
        "id": "AN-18gHOYjy8"
      },
      "outputs": [],
      "source": [
        "df_1.to_csv('kaggle_alter2.csv', index=False) # 전처리 완료한 파일 따로 저장"
      ]
    },
    {
      "cell_type": "markdown",
      "metadata": {
        "id": "ZfqZvGEc8yr8"
      },
      "source": [
        "# 분석\n",
        "\n",
        "1. 목적 및 문제 정의\n",
        "2. 지표 설정\n",
        "3. 현상 파악\n",
        "4. 평가\n",
        "5. 원인 도출\n",
        "6. 해결 방안 및 액션 도출"
      ]
    },
    {
      "cell_type": "code",
      "execution_count": 3,
      "metadata": {
        "id": "Z4c4On2w86En"
      },
      "outputs": [],
      "source": [
        "path_file = '/content/drive/MyDrive/Colab Notebooks/DA(AI)/kaggle_cosmetics/kaggle_alter2.csv'\n",
        "pd.read_csv(path_file)\n",
        "df = pd.read_csv(path_file)"
      ]
    },
    {
      "cell_type": "code",
      "execution_count": 4,
      "metadata": {
        "id": "BzJB9aTK9CRL"
      },
      "outputs": [],
      "source": [
        "df1 = df.copy()"
      ]
    },
    {
      "cell_type": "code",
      "execution_count": null,
      "metadata": {
        "colab": {
          "base_uri": "https://localhost:8080/"
        },
        "id": "7hld6VJI9DAl",
        "outputId": "c609882d-7b13-495a-e8f8-e1e67deef406"
      },
      "outputs": [
        {
          "output_type": "stream",
          "name": "stdout",
          "text": [
            "<class 'pandas.core.frame.DataFrame'>\n",
            "RangeIndex: 19229133 entries, 0 to 19229132\n",
            "Data columns (total 7 columns):\n",
            " #   Column       Dtype  \n",
            "---  ------       -----  \n",
            " 0   event_time   object \n",
            " 1   event_type   object \n",
            " 2   product_id   int64  \n",
            " 3   category_id  int64  \n",
            " 4   brand        object \n",
            " 5   price        float64\n",
            " 6   user_id      int64  \n",
            "dtypes: float64(1), int64(3), object(3)\n",
            "memory usage: 1.0+ GB\n"
          ]
        }
      ],
      "source": [
        "df1.info()"
      ]
    },
    {
      "cell_type": "code",
      "execution_count": null,
      "metadata": {
        "colab": {
          "base_uri": "https://localhost:8080/"
        },
        "id": "a3eGRhx2_6pF",
        "outputId": "61e2feb9-69ec-4756-e179-88e85917a2aa"
      },
      "outputs": [
        {
          "data": {
            "text/plain": [
              "event_time     0\n",
              "event_type     0\n",
              "product_id     0\n",
              "category_id    0\n",
              "brand          0\n",
              "price          0\n",
              "user_id        0\n",
              "dtype: int64"
            ]
          },
          "execution_count": 5,
          "metadata": {},
          "output_type": "execute_result"
        }
      ],
      "source": [
        "df1.isnull().sum()"
      ]
    },
    {
      "cell_type": "markdown",
      "metadata": {
        "id": "qWWR3K0V9MgV"
      },
      "source": [
        "## 1.목적 및 문제 정의\n"
      ]
    },
    {
      "cell_type": "markdown",
      "metadata": {
        "id": "mAx0nBSE610R"
      },
      "source": [
        "###  목적 : 매출 상승"
      ]
    },
    {
      "cell_type": "code",
      "execution_count": null,
      "metadata": {
        "id": "TiH51u2B9U15"
      },
      "outputs": [],
      "source": [
        "## 평균 매출액 확인 : 150만($) 미만 규모"
      ]
    },
    {
      "cell_type": "code",
      "execution_count": null,
      "metadata": {
        "id": "ENTQ9zl19Wqo"
      },
      "outputs": [],
      "source": [
        "## 월별 매출 추이 확인"
      ]
    },
    {
      "cell_type": "markdown",
      "metadata": {
        "id": "iGE9qAaJpqDK"
      },
      "source": [
        "###  문제 : 회원의 구매율 상승"
      ]
    },
    {
      "cell_type": "code",
      "execution_count": null,
      "metadata": {
        "id": "Gd8ui-CS9fM7"
      },
      "outputs": [],
      "source": [
        "## funnel 분석 - 문제 확인을 위한 퍼널 분석"
      ]
    },
    {
      "cell_type": "markdown",
      "metadata": {
        "id": "9s7Lmf1x9ZHT"
      },
      "source": [
        "## 2.지표 설정\n",
        "\n",
        "- 장바구니 구매 전환율\n",
        ": (purchase / cart) x 100 -> 단 고객 별\n",
        "---\n",
        "* 구매 전환율의 정의"
      ]
    },
    {
      "cell_type": "markdown",
      "metadata": {
        "id": "cGX4ewDG-FGX"
      },
      "source": [
        "## 3.현상 파악"
      ]
    },
    {
      "cell_type": "code",
      "execution_count": 5,
      "metadata": {
        "id": "KpG2jGU9ROYO"
      },
      "outputs": [],
      "source": [
        "df1['event_time'] = pd.to_datetime(df1['event_time'])\n",
        "\n",
        "df1['month'] = df1['event_time'].dt.month"
      ]
    },
    {
      "cell_type": "code",
      "execution_count": 6,
      "metadata": {
        "id": "ImZjbRwXSLFz"
      },
      "outputs": [],
      "source": [
        "df1_1 = df1[df1['month'] == 10]\n",
        "df1_2 = df1[df1['month'] == 11]\n",
        "df1_3 = df1[df1['month'] == 12]\n",
        "df1_4 = df1[df1['month'] == 1]\n",
        "df1_5 = df1[df1['month'] == 2]"
      ]
    },
    {
      "cell_type": "code",
      "execution_count": 9,
      "metadata": {
        "id": "l_0tNfO3fvET"
      },
      "outputs": [],
      "source": [
        "## 해당 데이터는 5개월 간의 데이터로 끊겨있기 때문에 카트에서 장바구니로 이동한 유저가 나타나게 수정\n",
        "def cvr_plot1(df):\n",
        "    cart_events = df[df['event_type'] == 'cart']\n",
        "    purchase_events = df[df['event_type'] == 'purchase']\n",
        "\n",
        "    users_in_both = set(cart_events['user_id']).intersection(set(purchase_events['user_id']))\n",
        "\n",
        "    purchase_users = len(users_in_both)\n",
        "    cart_users = cart_events['user_id'].nunique()\n",
        "\n",
        "    if cart_users > 0:\n",
        "        cvr = (purchase_users / cart_users) * 100\n",
        "    else:\n",
        "        cvr = 0\n",
        "\n",
        "    return cvr"
      ]
    },
    {
      "cell_type": "code",
      "execution_count": 10,
      "metadata": {
        "colab": {
          "base_uri": "https://localhost:8080/",
          "height": 564
        },
        "id": "5MqppKsis0tE",
        "outputId": "beb9d967-dd0c-463b-bf29-8f14c9b64d6c"
      },
      "outputs": [
        {
          "output_type": "display_data",
          "data": {
            "text/plain": [
              "<Figure size 1000x600 with 1 Axes>"
            ],
            "image/png": "[encoded data removed]"
          },
          "metadata": {}
        }
      ],
      "source": [
        "cvr_values = []\n",
        "\n",
        "for i, df in enumerate([df1_1, df1_2, df1_3, df1_4, df1_5]):\n",
        "    cvr = cvr_plot1(df)\n",
        "    cvr_values.append(cvr)\n",
        "\n",
        "plt.figure(figsize=(10, 6))\n",
        "plt.plot(range(1, 6), cvr_values, marker='o', label='Conversion Rate')\n",
        "plt.xticks(range(1, 6), ['2019-10', '2019-11', '2019-12', '2020-01', '2020-02'])\n",
        "plt.xlabel('Date')\n",
        "plt.ylabel('Rate(%)')\n",
        "plt.title('Trend of Conversion Rate')\n",
        "plt.legend()\n",
        "\n",
        "for i, cvr in enumerate(cvr_values):\n",
        "    plt.text(i + 1, cvr + 0.5, f'{cvr:.2f}%', ha='center', va='bottom', fontsize=8, color='blue')\n",
        "\n",
        "plt.grid(True)\n",
        "plt.show()"
      ]
    },
    {
      "cell_type": "markdown",
      "metadata": {
        "id": "1DgopXJZ-MF5"
      },
      "source": [
        "## 4.평가"
      ]
    },
    {
      "cell_type": "markdown",
      "metadata": {
        "id": "7rwafRF0Ydry"
      },
      "source": [
        "### 내부 평가\n"
      ]
    },
    {
      "cell_type": "code",
      "execution_count": 15,
      "metadata": {
        "id": "A2uL-ogZiqPs"
      },
      "outputs": [],
      "source": [
        "## 장바구니 구매 전환율과 제거 전환율 비교\n",
        "\n",
        "def cvr_plot2(df):\n",
        "    cart_events = df[df['event_type'] == 'cart']\n",
        "    purchase_events = df[df['event_type'] == 'purchase']\n",
        "    remove_cart_events = df[df['event_type'] == 'remove_from_cart']\n",
        "\n",
        "    cart_and_purchase = set(cart_events['user_id']).intersection(set(purchase_events['user_id']))\n",
        "    cart_and_remove = set(cart_events['user_id']).intersection(set(remove_cart_events['user_id']))\n",
        "\n",
        "    cart_users = cart_events['user_id'].nunique()\n",
        "    purchase_users = len(cart_and_purchase)\n",
        "    remove_users = len(cart_and_remove)\n",
        "\n",
        "    if cart_users > 0:\n",
        "        cvr = (purchase_users / cart_users) * 100\n",
        "        de_cvr = (remove_users / cart_users) * 100\n",
        "\n",
        "    else:\n",
        "        cvr = 0\n",
        "        de_cvr = 0\n",
        "\n",
        "    return cvr, de_cvr"
      ]
    },
    {
      "cell_type": "code",
      "execution_count": 14,
      "metadata": {
        "colab": {
          "base_uri": "https://localhost:8080/",
          "height": 564
        },
        "id": "-OAv6qc3sdDT",
        "outputId": "93dea5d6-4342-4864-f607-79220845b35a"
      },
      "outputs": [
        {
          "output_type": "display_data",
          "data": {
            "text/plain": [
              "<Figure size 1000x600 with 1 Axes>"
            ],
            "image/png": "[encoded data removed]"
          },
          "metadata": {}
        }
      ],
      "source": [
        "## 내부 평가 : 장바구니 제거 전환율과 비교 1\n",
        "\n",
        "cvr_values = []\n",
        "de_cvr_values = []\n",
        "\n",
        "for i, df in enumerate([df1_1, df1_2, df1_3, df1_4, df1_5]):\n",
        "    cvr, de_cvr = cvr_plot2(df)\n",
        "    cvr_values.append(cvr)\n",
        "    de_cvr_values.append(de_cvr)\n",
        "\n",
        "plt.figure(figsize=(10, 6))\n",
        "plt.plot(range(1, 6), cvr_values, marker='o', label='Conversion Rate')\n",
        "plt.plot(range(1, 6), de_cvr_values, marker='o', label='Removal Rate')\n",
        "plt.xticks(range(1, 6), ['2019-10', '2019-11', '2019-12', '2020-01', '2020-02'])\n",
        "plt.xlabel('Month')\n",
        "plt.ylabel('Rate(%)')\n",
        "plt.title('Conversion and Removal Rates Trends')\n",
        "plt.legend()\n",
        "\n",
        "for i, (cvr, de_cvr) in enumerate(zip(cvr_values, de_cvr_values)):\n",
        "    plt.text(i + 1, cvr + 0.5, f'{cvr:.2f}%', ha='center', va='bottom', fontsize=8, color='blue')\n",
        "    plt.text(i + 1, de_cvr - 0.5, f'{de_cvr:.2f}%', ha='center', va='top', fontsize=8, color='orange')\n",
        "\n",
        "plt.grid(True)\n",
        "plt.show()"
      ]
    },
    {
      "cell_type": "markdown",
      "metadata": {
        "id": "OCcNNiCWqCcP"
      },
      "source": [
        "### 외부 평가 : 전체 구매율 확인해보기"
      ]
    },
    {
      "cell_type": "code",
      "execution_count": 19,
      "metadata": {
        "colab": {
          "base_uri": "https://localhost:8080/"
        },
        "id": "9nFKOgUp00h6",
        "outputId": "94b7db10-50b2-4f93-d9ce-0c61697d9f31"
      },
      "outputs": [
        {
          "output_type": "execute_result",
          "data": {
            "text/plain": [
              "27.539608574091336"
            ]
          },
          "metadata": {},
          "execution_count": 19
        }
      ],
      "source": [
        "## 평균 장바구니 구매 전환율\n",
        "\n",
        "cvr_plot1(df1)"
      ]
    },
    {
      "cell_type": "markdown",
      "metadata": {
        "id": "E4Cy-QtB-Pe9"
      },
      "source": [
        "## 5.요인 분석"
      ]
    },
    {
      "cell_type": "markdown",
      "source": [
        "### 1) 장바구니 후 상품을 잊었을 가능성 확인하기"
      ],
      "metadata": {
        "id": "BrZJhGf5jl8W"
      }
    },
    {
      "cell_type": "code",
      "execution_count": null,
      "metadata": {
        "id": "W8pGfqaTLTcQ"
      },
      "outputs": [],
      "source": [
        "df1['date'] = df1['event_time'].dt.date"
      ]
    },
    {
      "cell_type": "code",
      "execution_count": null,
      "metadata": {
        "colab": {
          "base_uri": "https://localhost:8080/",
          "height": 566
        },
        "id": "EMrdNdFQ-TkL",
        "outputId": "5d091378-3325-4a2d-821c-6b26e4137573"
      },
      "outputs": [
        {
          "data": {
            "image/png": "[encoded data removed]",
            "text/plain": [
              "<Figure size 1200x800 with 2 Axes>"
            ]
          },
          "metadata": {},
          "output_type": "display_data"
        }
      ],
      "source": [
        "## 구매 경과 기간\n",
        "\n",
        "df1['date'] = pd.to_datetime(df1['date'])\n",
        "\n",
        "cart_purchase_data = df1[df1['event_type'].isin(['cart', 'purchase'])]\n",
        "\n",
        "cohort_df = cart_purchase_data.groupby(['user_id', 'event_type'])['date'].min().reset_index()\n",
        "\n",
        "cohort_table = cohort_df.pivot(index='user_id', columns='event_type', values='date')\n",
        "\n",
        "cohort_table = cohort_table[cohort_table['purchase'] > cohort_table['cart']]\n",
        "\n",
        "cohort_table['elapsed_time'] = (cohort_table['purchase'] - cohort_table['cart']).dt.days\n",
        "\n",
        "cohort_table['cart_month'] = cohort_table['cart'].dt.to_period('M')\n",
        "\n",
        "cohort_table_reset = cohort_table.reset_index()\n",
        "\n",
        "plt.figure(figsize=(12, 8))\n",
        "sns.heatmap(cohort_table_reset.pivot_table(index='cart_month', columns='elapsed_time', values='user_id', aggfunc='count'),\n",
        "            cmap='YlGnBu', annot=False, cbar_kws={'label': 'Number of Users'})\n",
        "plt.title('Elapsed period from Cart to Purchase')\n",
        "plt.show()"
      ]
    },
    {
      "cell_type": "code",
      "execution_count": null,
      "metadata": {
        "colab": {
          "base_uri": "https://localhost:8080/",
          "height": 566
        },
        "id": "CtlCAxQ0Uksf",
        "outputId": "06de86c8-8439-4a4b-88c2-d01a0ffb6ddc"
      },
      "outputs": [
        {
          "data": {
            "image/png": "[encoded data removed]",
            "text/plain": [
              "<Figure size 1200x800 with 2 Axes>"
            ]
          },
          "metadata": {},
          "output_type": "display_data"
        }
      ],
      "source": [
        "## 제거 경과 기간\n",
        "\n",
        "cart_remove_data = df1[df1['event_type'].isin(['cart', 'remove_from_cart'])]\n",
        "\n",
        "cohort_df = cart_remove_data.groupby(['user_id', 'event_type'])['date'].min().reset_index()\n",
        "\n",
        "cohort_table = cohort_df.pivot(index='user_id', columns='event_type', values='date')\n",
        "\n",
        "cohort_table = cohort_table[cohort_table['remove_from_cart'] > cohort_table['cart']]\n",
        "\n",
        "cohort_table['elapsed_time'] = (cohort_table['remove_from_cart'] - cohort_table['cart']).dt.days\n",
        "\n",
        "cohort_table['cart_month'] = cohort_table['cart'].dt.to_period('M')\n",
        "\n",
        "cohort_table_reset = cohort_table.reset_index()\n",
        "\n",
        "plt.figure(figsize=(12, 8))\n",
        "sns.heatmap(cohort_table_reset.pivot_table(index='cart_month', columns='elapsed_time', values='user_id', aggfunc='count'),\n",
        "            cmap='YlGnBu', annot=False, cbar_kws={'label': 'Number of Users'})\n",
        "plt.title('Elapsed period from Cart to remove_from_cart')\n",
        "plt.show()"
      ]
    },
    {
      "cell_type": "markdown",
      "source": [
        "### 2) 가격으로 인한 고민일까?"
      ],
      "metadata": {
        "id": "On_hRL21jwC-"
      }
    },
    {
      "cell_type": "code",
      "source": [
        "a = df1['price'].value_counts()\n",
        "pd.DataFrame(a)"
      ],
      "metadata": {
        "colab": {
          "base_uri": "https://localhost:8080/",
          "height": 680
        },
        "id": "beWC9qHLoCrK",
        "outputId": "a26bc689-6d2a-4cfe-82b5-ea921123085a"
      },
      "execution_count": 25,
      "outputs": [
        {
          "output_type": "execute_result",
          "data": {
            "text/plain": [
              "        price\n",
              "6.24   587540\n",
              "4.97   561897\n",
              "1.79   508282\n",
              "4.00   489565\n",
              "5.44   466239\n",
              "...       ...\n",
              "16.92       1\n",
              "39.87       1\n",
              "25.59       1\n",
              "28.76       1\n",
              "70.05       1\n",
              "\n",
              "[2777 rows x 1 columns]"
            ],
            "text/html": [
              "\n",
              "  <div id=\"df-c08d44fd-6bf4-46d2-9e3d-fc16a97428c3\" class=\"colab-df-container\">\n",
              "    <div>\n",
              "<style scoped>\n",
              "    .dataframe tbody tr th:only-of-type {\n",
              "        vertical-align: middle;\n",
              "    }\n",
              "\n",
              "    .dataframe tbody tr th {\n",
              "        vertical-align: top;\n",
              "    }\n",
              "\n",
              "    .dataframe thead th {\n",
              "        text-align: right;\n",
              "    }\n",
              "</style>\n",
              "<table border=\"1\" class=\"dataframe\">\n",
              "  <thead>\n",
              "    <tr style=\"text-align: right;\">\n",
              "      <th></th>\n",
              "      <th>price</th>\n",
              "    </tr>\n",
              "  </thead>\n",
              "  <tbody>\n",
              "    <tr>\n",
              "      <th>6.24</th>\n",
              "      <td>587540</td>\n",
              "    </tr>\n",
              "    <tr>\n",
              "      <th>4.97</th>\n",
              "      <td>561897</td>\n",
              "    </tr>\n",
              "    <tr>\n",
              "      <th>1.79</th>\n",
              "      <td>508282</td>\n",
              "    </tr>\n",
              "    <tr>\n",
              "      <th>4.00</th>\n",
              "      <td>489565</td>\n",
              "    </tr>\n",
              "    <tr>\n",
              "      <th>5.44</th>\n",
              "      <td>466239</td>\n",
              "    </tr>\n",
              "    <tr>\n",
              "      <th>...</th>\n",
              "      <td>...</td>\n",
              "    </tr>\n",
              "    <tr>\n",
              "      <th>16.92</th>\n",
              "      <td>1</td>\n",
              "    </tr>\n",
              "    <tr>\n",
              "      <th>39.87</th>\n",
              "      <td>1</td>\n",
              "    </tr>\n",
              "    <tr>\n",
              "      <th>25.59</th>\n",
              "      <td>1</td>\n",
              "    </tr>\n",
              "    <tr>\n",
              "      <th>28.76</th>\n",
              "      <td>1</td>\n",
              "    </tr>\n",
              "    <tr>\n",
              "      <th>70.05</th>\n",
              "      <td>1</td>\n",
              "    </tr>\n",
              "  </tbody>\n",
              "</table>\n",
              "<p>2777 rows × 1 columns</p>\n",
              "</div>\n",
              "    <div class=\"colab-df-buttons\">\n",
              "\n",
              "  <div class=\"colab-df-container\">\n",
              "    <button class=\"colab-df-convert\" onclick=\"convertToInteractive('df-c08d44fd-6bf4-46d2-9e3d-fc16a97428c3')\"\n",
              "            title=\"Convert this dataframe to an interactive table.\"\n",
              "            style=\"display:none;\">\n",
              "\n",
              "  <svg xmlns=\"http://www.w3.org/2000/svg\" height=\"24px\" viewBox=\"0 -960 960 960\">\n",
              "    <path d=\"M120-120v-720h720v720H120Zm60-500h600v-160H180v160Zm220 220h160v-160H400v160Zm0 220h160v-160H400v160ZM180-400h160v-160H180v160Zm440 0h160v-160H620v160ZM180-180h160v-160H180v160Zm440 0h160v-160H620v160Z\"/>\n",
              "  </svg>\n",
              "    </button>\n",
              "\n",
              "  <style>\n",
              "    .colab-df-container {\n",
              "      display:flex;\n",
              "      gap: 12px;\n",
              "    }\n",
              "\n",
              "    .colab-df-convert {\n",
              "      background-color: #E8F0FE;\n",
              "      border: none;\n",
              "      border-radius: 50%;\n",
              "      cursor: pointer;\n",
              "      display: none;\n",
              "      fill: #1967D2;\n",
              "      height: 32px;\n",
              "      padding: 0 0 0 0;\n",
              "      width: 32px;\n",
              "    }\n",
              "\n",
              "    .colab-df-convert:hover {\n",
              "      background-color: #E2EBFA;\n",
              "      box-shadow: 0px 1px 2px rgba(60, 64, 67, 0.3), 0px 1px 3px 1px rgba(60, 64, 67, 0.15);\n",
              "      fill: #174EA6;\n",
              "    }\n",
              "\n",
              "    .colab-df-buttons div {\n",
              "      margin-bottom: 4px;\n",
              "    }\n",
              "\n",
              "    [theme=dark] .colab-df-convert {\n",
              "      background-color: #3B4455;\n",
              "      fill: #D2E3FC;\n",
              "    }\n",
              "\n",
              "    [theme=dark] .colab-df-convert:hover {\n",
              "      background-color: #434B5C;\n",
              "      box-shadow: 0px 1px 3px 1px rgba(0, 0, 0, 0.15);\n",
              "      filter: drop-shadow(0px 1px 2px rgba(0, 0, 0, 0.3));\n",
              "      fill: #FFFFFF;\n",
              "    }\n",
              "  </style>\n",
              "\n",
              "    <script>\n",
              "      const buttonEl =\n",
              "        document.querySelector('#df-c08d44fd-6bf4-46d2-9e3d-fc16a97428c3 button.colab-df-convert');\n",
              "      buttonEl.style.display =\n",
              "        google.colab.kernel.accessAllowed ? 'block' : 'none';\n",
              "\n",
              "      async function convertToInteractive(key) {\n",
              "        const element = document.querySelector('#df-c08d44fd-6bf4-46d2-9e3d-fc16a97428c3');\n",
              "        const dataTable =\n",
              "          await google.colab.kernel.invokeFunction('convertToInteractive',\n",
              "                                                    [key], {});\n",
              "        if (!dataTable) return;\n",
              "\n",
              "        const docLinkHtml = 'Like what you see? Visit the ' +\n",
              "          '<a target=\"_blank\" href=https://colab.research.google.com/notebooks/data_table.ipynb>data table notebook</a>'\n",
              "          + ' to learn more about interactive tables.';\n",
              "        element.innerHTML = '';\n",
              "        dataTable['output_type'] = 'display_data';\n",
              "        await google.colab.output.renderOutput(dataTable, element);\n",
              "        const docLink = document.createElement('div');\n",
              "        docLink.innerHTML = docLinkHtml;\n",
              "        element.appendChild(docLink);\n",
              "      }\n",
              "    </script>\n",
              "  </div>\n",
              "\n",
              "\n",
              "<div id=\"df-aa9b9a6b-0d7f-4ce6-b23f-b642f29bf018\">\n",
              "  <button class=\"colab-df-quickchart\" onclick=\"quickchart('df-aa9b9a6b-0d7f-4ce6-b23f-b642f29bf018')\"\n",
              "            title=\"Suggest charts\"\n",
              "            style=\"display:none;\">\n",
              "\n",
              "<svg xmlns=\"http://www.w3.org/2000/svg\" height=\"24px\"viewBox=\"0 0 24 24\"\n",
              "     width=\"24px\">\n",
              "    <g>\n",
              "        <path d=\"M19 3H5c-1.1 0-2 .9-2 2v14c0 1.1.9 2 2 2h14c1.1 0 2-.9 2-2V5c0-1.1-.9-2-2-2zM9 17H7v-7h2v7zm4 0h-2V7h2v10zm4 0h-2v-4h2v4z\"/>\n",
              "    </g>\n",
              "</svg>\n",
              "  </button>\n",
              "\n",
              "<style>\n",
              "  .colab-df-quickchart {\n",
              "      --bg-color: #E8F0FE;\n",
              "      --fill-color: #1967D2;\n",
              "      --hover-bg-color: #E2EBFA;\n",
              "      --hover-fill-color: #174EA6;\n",
              "      --disabled-fill-color: #AAA;\n",
              "      --disabled-bg-color: #DDD;\n",
              "  }\n",
              "\n",
              "  [theme=dark] .colab-df-quickchart {\n",
              "      --bg-color: #3B4455;\n",
              "      --fill-color: #D2E3FC;\n",
              "      --hover-bg-color: #434B5C;\n",
              "      --hover-fill-color: #FFFFFF;\n",
              "      --disabled-bg-color: #3B4455;\n",
              "      --disabled-fill-color: #666;\n",
              "  }\n",
              "\n",
              "  .colab-df-quickchart {\n",
              "    background-color: var(--bg-color);\n",
              "    border: none;\n",
              "    border-radius: 50%;\n",
              "    cursor: pointer;\n",
              "    display: none;\n",
              "    fill: var(--fill-color);\n",
              "    height: 32px;\n",
              "    padding: 0;\n",
              "    width: 32px;\n",
              "  }\n",
              "\n",
              "  .colab-df-quickchart:hover {\n",
              "    background-color: var(--hover-bg-color);\n",
              "    box-shadow: 0 1px 2px rgba(60, 64, 67, 0.3), 0 1px 3px 1px rgba(60, 64, 67, 0.15);\n",
              "    fill: var(--button-hover-fill-color);\n",
              "  }\n",
              "\n",
              "  .colab-df-quickchart-complete:disabled,\n",
              "  .colab-df-quickchart-complete:disabled:hover {\n",
              "    background-color: var(--disabled-bg-color);\n",
              "    fill: var(--disabled-fill-color);\n",
              "    box-shadow: none;\n",
              "  }\n",
              "\n",
              "  .colab-df-spinner {\n",
              "    border: 2px solid var(--fill-color);\n",
              "    border-color: transparent;\n",
              "    border-bottom-color: var(--fill-color);\n",
              "    animation:\n",
              "      spin 1s steps(1) infinite;\n",
              "  }\n",
              "\n",
              "  @keyframes spin {\n",
              "    0% {\n",
              "      border-color: transparent;\n",
              "      border-bottom-color: var(--fill-color);\n",
              "      border-left-color: var(--fill-color);\n",
              "    }\n",
              "    20% {\n",
              "      border-color: transparent;\n",
              "      border-left-color: var(--fill-color);\n",
              "      border-top-color: var(--fill-color);\n",
              "    }\n",
              "    30% {\n",
              "      border-color: transparent;\n",
              "      border-left-color: var(--fill-color);\n",
              "      border-top-color: var(--fill-color);\n",
              "      border-right-color: var(--fill-color);\n",
              "    }\n",
              "    40% {\n",
              "      border-color: transparent;\n",
              "      border-right-color: var(--fill-color);\n",
              "      border-top-color: var(--fill-color);\n",
              "    }\n",
              "    60% {\n",
              "      border-color: transparent;\n",
              "      border-right-color: var(--fill-color);\n",
              "    }\n",
              "    80% {\n",
              "      border-color: transparent;\n",
              "      border-right-color: var(--fill-color);\n",
              "      border-bottom-color: var(--fill-color);\n",
              "    }\n",
              "    90% {\n",
              "      border-color: transparent;\n",
              "      border-bottom-color: var(--fill-color);\n",
              "    }\n",
              "  }\n",
              "</style>\n",
              "\n",
              "  <script>\n",
              "    async function quickchart(key) {\n",
              "      const quickchartButtonEl =\n",
              "        document.querySelector('#' + key + ' button');\n",
              "      quickchartButtonEl.disabled = true;  // To prevent multiple clicks.\n",
              "      quickchartButtonEl.classList.add('colab-df-spinner');\n",
              "      try {\n",
              "        const charts = await google.colab.kernel.invokeFunction(\n",
              "            'suggestCharts', [key], {});\n",
              "      } catch (error) {\n",
              "        console.error('Error during call to suggestCharts:', error);\n",
              "      }\n",
              "      quickchartButtonEl.classList.remove('colab-df-spinner');\n",
              "      quickchartButtonEl.classList.add('colab-df-quickchart-complete');\n",
              "    }\n",
              "    (() => {\n",
              "      let quickchartButtonEl =\n",
              "        document.querySelector('#df-aa9b9a6b-0d7f-4ce6-b23f-b642f29bf018 button');\n",
              "      quickchartButtonEl.style.display =\n",
              "        google.colab.kernel.accessAllowed ? 'block' : 'none';\n",
              "    })();\n",
              "  </script>\n",
              "</div>\n",
              "\n",
              "    </div>\n",
              "  </div>\n"
            ],
            "application/vnd.google.colaboratory.intrinsic+json": {
              "type": "dataframe",
              "summary": "{\n  \"name\": \"pd\",\n  \"rows\": 2777,\n  \"fields\": [\n    {\n      \"column\": \"price\",\n      \"properties\": {\n        \"dtype\": \"number\",\n        \"std\": 33721,\n        \"min\": 1,\n        \"max\": 587540,\n        \"num_unique_values\": 1459,\n        \"samples\": [\n          138,\n          1067,\n          5573\n        ],\n        \"semantic_type\": \"\",\n        \"description\": \"\"\n      }\n    }\n  ]\n}"
            }
          },
          "metadata": {},
          "execution_count": 25
        }
      ]
    },
    {
      "cell_type": "code",
      "source": [
        "# 이벤트 발생 top 가격대의 장바구니 구매 전환울 확인\n",
        "\n",
        "df2_1 = df1[df1['price'] == 1.79]\n",
        "df2_2 = df1[df1['price'] == 2.59]\n",
        "df2_3 = df1[df1['price'] == 4]\n",
        "df2_4 = df1[df1['price'] == 4.970000000000001]\n",
        "df2_5 = df1[df1['price'] == 5.44]\n",
        "df2_6 = df1[df1['price'] == 6.24]"
      ],
      "metadata": {
        "id": "Nn2bcMndj3KI"
      },
      "execution_count": 32,
      "outputs": []
    },
    {
      "cell_type": "code",
      "source": [
        "cvr_values = []\n",
        "de_cvr_values = []\n",
        "\n",
        "for i, df in enumerate([df2_1, df2_2, df2_3, df2_4, df2_5, df2_6]):\n",
        "    cvr, de_cvr = cvr_plot2(df)\n",
        "    cvr_values.append(cvr)\n",
        "    de_cvr_values.append(de_cvr)\n",
        "\n",
        "plt.figure(figsize=(10, 6))\n",
        "plt.plot(range(1, 7), cvr_values, marker='o', label='Conversion Rate')\n",
        "plt.plot(range(1, 7), de_cvr_values, marker='o', label='Removal Rate')\n",
        "plt.xticks(range(1, 7), ['1.79$', '2.59$', '4$', '4.97$', '5.44$', '6.24$'])\n",
        "plt.xlabel('Price')\n",
        "plt.ylabel('Rate(%)')\n",
        "plt.title('Conversion and Removal Rates Trends')\n",
        "plt.legend()\n",
        "\n",
        "for i, (cvr, de_cvr) in enumerate(zip(cvr_values, de_cvr_values)):\n",
        "    plt.text(i + 1, cvr + 0.5, f'{cvr:.2f}%', ha='center', va='bottom', fontsize=8, color='blue')\n",
        "    plt.text(i + 1, de_cvr - 0.5, f'{de_cvr:.2f}%', ha='center', va='top', fontsize=8, color='orange')\n",
        "\n",
        "plt.grid(True)\n",
        "plt.show()"
      ],
      "metadata": {
        "colab": {
          "base_uri": "https://localhost:8080/",
          "height": 564
        },
        "id": "B2cV_WjEj3H6",
        "outputId": "43229a1b-cd27-44fb-dc74-9c5a973f0563"
      },
      "execution_count": 34,
      "outputs": [
        {
          "output_type": "display_data",
          "data": {
            "text/plain": [
              "<Figure size 1000x600 with 1 Axes>"
            ],
            "image/png": "[encoded data removed]"
          },
          "metadata": {}
        }
      ]
    },
    {
      "cell_type": "markdown",
      "source": [
        "- 장바구니 구매 전환율이 1.79 > 2.59 > 4.97 > 6.24 > 4 > 5.44 순으로 높다는 것을 알 수 있다.\n",
        "- 가격이 4와 5.44를 제외하고는 발생 건수와 비교하여 가격이 낮은 순으로 높다는 것을 확인할 수 있다.\n"
      ],
      "metadata": {
        "id": "Ufq0icyPsKmG"
      }
    },
    {
      "cell_type": "markdown",
      "metadata": {
        "id": "TPNEJ3QB-TyT"
      },
      "source": [
        "## 6.액션 제안"
      ]
    },
    {
      "cell_type": "markdown",
      "source": [
        "#### 1. 상품의 구매 고민 기간을 7일까지 늘리도록 하는 것과 그 이상이 넘어가지 않도록 구매 촉구\n",
        "- 리워드 증정 : 7일 이내 구매 시 할인 쿠폰 증정\n",
        "- 앱 또는 웹 푸시 알림 : 장바구니 후 7일이 지나지 않도록 7일 차에 쿠폰 기한 마감과 함께 장바구니 상품 알림"
      ],
      "metadata": {
        "id": "lDmpGQJzuDy5"
      }
    },
    {
      "cell_type": "markdown",
      "source": [
        "#### 2. 4(달러) 상품과 5.44(달러) 상품의 가격 할인 이벤트를 진행하는 것을 제안"
      ],
      "metadata": {
        "id": "RBwYEeACuLkY"
      }
    }
  ],
  "metadata": {
    "colab": {
      "provenance": []
    },
    "kernelspec": {
      "display_name": "Python 3",
      "name": "python3"
    },
    "language_info": {
      "name": "python"
    }
  },
  "nbformat": 4,
  "nbformat_minor": 0
}